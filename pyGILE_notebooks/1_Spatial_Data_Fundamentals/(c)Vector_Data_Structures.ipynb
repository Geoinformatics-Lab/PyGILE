{
 "cells": [
  {
   "cell_type": "markdown",
   "id": "allied-wildlife",
   "metadata": {},
   "source": [
    "(c_vectors)=\n",
    "\n",
    "# Vector Data \n",
    "\n",
    "## GeoPandas\n",
    "\n",
    "The goal of GeoPandas is to make working with geospatial data in python easier. It combines the capabilities of pandas and shapely, providing geospatial operations in pandas and a high-level interface to multiple geometries to shapely. GeoPandas enables you to easily do operations in python that would otherwise require a spatial database such as PostGIS.\n",
    "\n",
    "## Data Structures\n",
    "\n",
    "GeoPandas implements two main data structures, a `GeoSeries` and a `GeoDataFrame`. These are subclasses of pandas Series and DataFrame, respectively.\n",
    "\n",
    "### GeoSeries\n",
    "\n",
    "A `GeoSeries` is essentially a vector where each entry in the vector is a set of shapes corresponding to one observation. An entry may consist of only one shape (like a single polygon) or multiple shapes that are meant to be thought of as one observation (like the many polygons that make up the State of Hawaii or a country like Indonesia).\n",
    "\n",
    "geopandas has three basic classes of geometric objects (which are actually shapely objects):\n",
    "\n",
    "* Points / Multi-Points\n",
    "* Lines / Multi-Lines\n",
    "* Polygons / Multi-Polygons"
   ]
  },
  {
   "cell_type": "code",
   "execution_count": 7,
   "id": "dietary-tongue",
   "metadata": {},
   "outputs": [
    {
     "data": {
      "text/plain": [
       "0    POINT (1 1)\n",
       "1    POINT (2 2)\n",
       "2    POINT (3 3)\n",
       "dtype: geometry"
      ]
     },
     "execution_count": 7,
     "metadata": {},
     "output_type": "execute_result"
    }
   ],
   "source": [
    "import geopandas\n",
    "from shapely.geometry import Point\n",
    "s = geopandas.GeoSeries([Point(1, 1), Point(2, 2), Point(3, 3)])\n",
    "s"
   ]
  },
  {
   "cell_type": "code",
   "execution_count": 8,
   "id": "mexican-salad",
   "metadata": {},
   "outputs": [
    {
     "data": {
      "text/plain": [
       "0    LINESTRING (-77.03687 38.90719, -76.61219 39.2...\n",
       "dtype: geometry"
      ]
     },
     "execution_count": 8,
     "metadata": {},
     "output_type": "execute_result"
    }
   ],
   "source": [
    "from shapely.geometry import LineString\n",
    "l= geopandas.GeoSeries([LineString([Point(-77.036873,38.907192), Point(-76.612190,39.290386,), Point(-77.408456,39.412006)])])\n",
    "l"
   ]
  },
  {
   "cell_type": "code",
   "execution_count": 9,
   "id": "blind-bermuda",
   "metadata": {},
   "outputs": [
    {
     "data": {
      "text/plain": [
       "0    POLYGON ((-77.03687 38.90719, -76.61219 39.290...\n",
       "dtype: geometry"
      ]
     },
     "execution_count": 9,
     "metadata": {},
     "output_type": "execute_result"
    }
   ],
   "source": [
    "from shapely.geometry import Polygon\n",
    "p= geopandas.GeoSeries([Polygon([Point(-77.036873,38.907192), Point(-76.612190,39.290386,), Point(-77.408456,39.412006)])])\n",
    "p"
   ]
  },
  {
   "cell_type": "markdown",
   "id": "favorite-senegal",
   "metadata": {},
   "source": [
    "Note that all entries in a `GeoSeries` need not be of the same geometric type, although certain export operations will fail if this is not the case.\n",
    "\n",
    "### GeoDataFrame\n",
    "A `GeoDataFrame` is a tabular data structure that contains a `GeoSeries`.\n",
    "\n",
    "The most important property of a `GeoDataFrame` is that it always has one `GeoSeries` column that holds a special status. This `GeoSeries` is referred to as the `GeoDataFrame’s` “geometry”. When a spatial method is applied to a `GeoDataFrame` (or a spatial attribute like area is called), this commands will always act on the “geometry” column.\n",
    "\n",
    "The “geometry” column – no matter its name – can be accessed through the geometry attribute (gdf.geometry), and the name of the geometry column can be found by typing gdf.geometry.name.\n",
    "\n",
    "```{note}\n",
    "A `GeoDataFrame` may also contain other columns with geometrical (shapely) objects, but only one column can be the active geometry at a time. To change which column is the active geometry column, use the `GeoDataFrame.set_geometry()` method.\n",
    "```\n",
    "\n",
    "An example using the worlds `GeoDataFrame`:"
   ]
  },
  {
   "cell_type": "code",
   "execution_count": 10,
   "id": "arranged-couple",
   "metadata": {},
   "outputs": [
    {
     "data": {
      "text/html": [
       "<div>\n",
       "<style scoped>\n",
       "    .dataframe tbody tr th:only-of-type {\n",
       "        vertical-align: middle;\n",
       "    }\n",
       "\n",
       "    .dataframe tbody tr th {\n",
       "        vertical-align: top;\n",
       "    }\n",
       "\n",
       "    .dataframe thead th {\n",
       "        text-align: right;\n",
       "    }\n",
       "</style>\n",
       "<table border=\"1\" class=\"dataframe\">\n",
       "  <thead>\n",
       "    <tr style=\"text-align: right;\">\n",
       "      <th></th>\n",
       "      <th>featurecla</th>\n",
       "      <th>scalerank</th>\n",
       "      <th>LABELRANK</th>\n",
       "      <th>SOVEREIGNT</th>\n",
       "      <th>SOV_A3</th>\n",
       "      <th>ADM0_DIF</th>\n",
       "      <th>LEVEL</th>\n",
       "      <th>TYPE</th>\n",
       "      <th>TLC</th>\n",
       "      <th>ADMIN</th>\n",
       "      <th>...</th>\n",
       "      <th>FCLASS_TR</th>\n",
       "      <th>FCLASS_ID</th>\n",
       "      <th>FCLASS_PL</th>\n",
       "      <th>FCLASS_GR</th>\n",
       "      <th>FCLASS_IT</th>\n",
       "      <th>FCLASS_NL</th>\n",
       "      <th>FCLASS_SE</th>\n",
       "      <th>FCLASS_BD</th>\n",
       "      <th>FCLASS_UA</th>\n",
       "      <th>geometry</th>\n",
       "    </tr>\n",
       "  </thead>\n",
       "  <tbody>\n",
       "    <tr>\n",
       "      <th>0</th>\n",
       "      <td>Admin-0 country</td>\n",
       "      <td>1</td>\n",
       "      <td>6</td>\n",
       "      <td>Fiji</td>\n",
       "      <td>FJI</td>\n",
       "      <td>0</td>\n",
       "      <td>2</td>\n",
       "      <td>Sovereign country</td>\n",
       "      <td>1</td>\n",
       "      <td>Fiji</td>\n",
       "      <td>...</td>\n",
       "      <td>None</td>\n",
       "      <td>None</td>\n",
       "      <td>None</td>\n",
       "      <td>None</td>\n",
       "      <td>None</td>\n",
       "      <td>None</td>\n",
       "      <td>None</td>\n",
       "      <td>None</td>\n",
       "      <td>None</td>\n",
       "      <td>MULTIPOLYGON (((180 -16.06713, 180 -16.55522, ...</td>\n",
       "    </tr>\n",
       "    <tr>\n",
       "      <th>1</th>\n",
       "      <td>Admin-0 country</td>\n",
       "      <td>1</td>\n",
       "      <td>3</td>\n",
       "      <td>United Republic of Tanzania</td>\n",
       "      <td>TZA</td>\n",
       "      <td>0</td>\n",
       "      <td>2</td>\n",
       "      <td>Sovereign country</td>\n",
       "      <td>1</td>\n",
       "      <td>United Republic of Tanzania</td>\n",
       "      <td>...</td>\n",
       "      <td>None</td>\n",
       "      <td>None</td>\n",
       "      <td>None</td>\n",
       "      <td>None</td>\n",
       "      <td>None</td>\n",
       "      <td>None</td>\n",
       "      <td>None</td>\n",
       "      <td>None</td>\n",
       "      <td>None</td>\n",
       "      <td>POLYGON ((33.90371 -0.95, 34.07262 -1.05982, 3...</td>\n",
       "    </tr>\n",
       "    <tr>\n",
       "      <th>2</th>\n",
       "      <td>Admin-0 country</td>\n",
       "      <td>1</td>\n",
       "      <td>7</td>\n",
       "      <td>Western Sahara</td>\n",
       "      <td>SAH</td>\n",
       "      <td>0</td>\n",
       "      <td>2</td>\n",
       "      <td>Indeterminate</td>\n",
       "      <td>1</td>\n",
       "      <td>Western Sahara</td>\n",
       "      <td>...</td>\n",
       "      <td>Unrecognized</td>\n",
       "      <td>Unrecognized</td>\n",
       "      <td>Unrecognized</td>\n",
       "      <td>None</td>\n",
       "      <td>None</td>\n",
       "      <td>Unrecognized</td>\n",
       "      <td>None</td>\n",
       "      <td>None</td>\n",
       "      <td>None</td>\n",
       "      <td>POLYGON ((-8.66559 27.65643, -8.66512 27.58948...</td>\n",
       "    </tr>\n",
       "    <tr>\n",
       "      <th>3</th>\n",
       "      <td>Admin-0 country</td>\n",
       "      <td>1</td>\n",
       "      <td>2</td>\n",
       "      <td>Canada</td>\n",
       "      <td>CAN</td>\n",
       "      <td>0</td>\n",
       "      <td>2</td>\n",
       "      <td>Sovereign country</td>\n",
       "      <td>1</td>\n",
       "      <td>Canada</td>\n",
       "      <td>...</td>\n",
       "      <td>None</td>\n",
       "      <td>None</td>\n",
       "      <td>None</td>\n",
       "      <td>None</td>\n",
       "      <td>None</td>\n",
       "      <td>None</td>\n",
       "      <td>None</td>\n",
       "      <td>None</td>\n",
       "      <td>None</td>\n",
       "      <td>MULTIPOLYGON (((-122.84 49, -122.97421 49.0025...</td>\n",
       "    </tr>\n",
       "    <tr>\n",
       "      <th>4</th>\n",
       "      <td>Admin-0 country</td>\n",
       "      <td>1</td>\n",
       "      <td>2</td>\n",
       "      <td>United States of America</td>\n",
       "      <td>US1</td>\n",
       "      <td>1</td>\n",
       "      <td>2</td>\n",
       "      <td>Country</td>\n",
       "      <td>1</td>\n",
       "      <td>United States of America</td>\n",
       "      <td>...</td>\n",
       "      <td>None</td>\n",
       "      <td>None</td>\n",
       "      <td>None</td>\n",
       "      <td>None</td>\n",
       "      <td>None</td>\n",
       "      <td>None</td>\n",
       "      <td>None</td>\n",
       "      <td>None</td>\n",
       "      <td>None</td>\n",
       "      <td>MULTIPOLYGON (((-122.84 49, -120 49, -117.0312...</td>\n",
       "    </tr>\n",
       "  </tbody>\n",
       "</table>\n",
       "<p>5 rows × 169 columns</p>\n",
       "</div>"
      ],
      "text/plain": [
       "        featurecla  scalerank  LABELRANK                   SOVEREIGNT SOV_A3  \\\n",
       "0  Admin-0 country          1          6                         Fiji    FJI   \n",
       "1  Admin-0 country          1          3  United Republic of Tanzania    TZA   \n",
       "2  Admin-0 country          1          7               Western Sahara    SAH   \n",
       "3  Admin-0 country          1          2                       Canada    CAN   \n",
       "4  Admin-0 country          1          2     United States of America    US1   \n",
       "\n",
       "   ADM0_DIF  LEVEL               TYPE TLC                        ADMIN  ...  \\\n",
       "0         0      2  Sovereign country   1                         Fiji  ...   \n",
       "1         0      2  Sovereign country   1  United Republic of Tanzania  ...   \n",
       "2         0      2      Indeterminate   1               Western Sahara  ...   \n",
       "3         0      2  Sovereign country   1                       Canada  ...   \n",
       "4         1      2            Country   1     United States of America  ...   \n",
       "\n",
       "      FCLASS_TR     FCLASS_ID     FCLASS_PL FCLASS_GR  FCLASS_IT  \\\n",
       "0          None          None          None      None       None   \n",
       "1          None          None          None      None       None   \n",
       "2  Unrecognized  Unrecognized  Unrecognized      None       None   \n",
       "3          None          None          None      None       None   \n",
       "4          None          None          None      None       None   \n",
       "\n",
       "      FCLASS_NL FCLASS_SE  FCLASS_BD FCLASS_UA  \\\n",
       "0          None      None       None      None   \n",
       "1          None      None       None      None   \n",
       "2  Unrecognized      None       None      None   \n",
       "3          None      None       None      None   \n",
       "4          None      None       None      None   \n",
       "\n",
       "                                            geometry  \n",
       "0  MULTIPOLYGON (((180 -16.06713, 180 -16.55522, ...  \n",
       "1  POLYGON ((33.90371 -0.95, 34.07262 -1.05982, 3...  \n",
       "2  POLYGON ((-8.66559 27.65643, -8.66512 27.58948...  \n",
       "3  MULTIPOLYGON (((-122.84 49, -122.97421 49.0025...  \n",
       "4  MULTIPOLYGON (((-122.84 49, -120 49, -117.0312...  \n",
       "\n",
       "[5 rows x 169 columns]"
      ]
     },
     "execution_count": 10,
     "metadata": {},
     "output_type": "execute_result"
    }
   ],
   "source": [
    "import geopandas as gpd\n",
    "\n",
    "# Read the default countries layer \n",
    "world = gpd.read_file(r\"../../pygis/data/110m_cultural.zip\", layer='ne_110m_admin_0_countries')\n",
    "world.head()"
   ]
  },
  {
   "cell_type": "code",
   "execution_count": 11,
   "id": "celtic-mounting",
   "metadata": {},
   "outputs": [
    {
     "data": {
      "text/plain": [
       "<Axes: >"
      ]
     },
     "execution_count": 11,
     "metadata": {},
     "output_type": "execute_result"
    },
    {
     "data": {
      "image/png": "[encoded data removed]",
      "text/plain": [
       "<Figure size 640x480 with 1 Axes>"
      ]
     },
     "metadata": {},
     "output_type": "display_data"
    }
   ],
   "source": [
    "world.plot()"
   ]
  }
 ],
 "metadata": {
  "jupytext": {
   "text_representation": {
    "extension": ".md",
    "format_name": "myst"
   }
  },
  "kernelspec": {
   "display_name": "Python 3 (ipykernel)",
   "language": "python",
   "name": "python3"
  },
  "language_info": {
   "codemirror_mode": {
    "name": "ipython",
    "version": 3
   },
   "file_extension": ".py",
   "mimetype": "text/x-python",
   "name": "python",
   "nbconvert_exporter": "python",
   "pygments_lexer": "ipython3",
   "version": "3.10.18"
  },
  "source_map": [
   10,
   34,
   40,
   45,
   49,
   66,
   71
  ]
 },
 "nbformat": 4,
 "nbformat_minor": 5
}
