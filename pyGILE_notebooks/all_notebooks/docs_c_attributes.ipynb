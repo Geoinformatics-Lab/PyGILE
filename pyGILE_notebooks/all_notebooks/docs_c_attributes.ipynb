{
 "cells": [
  {
   "cell_type": "markdown",
   "id": "placed-incidence",
   "metadata": {},
   "source": [
    "(c_attributes)=\n",
    " \n",
    "# Attributes & Indexing  \n",
    "\n",
    "```{figure} ../_static/c_data_types/dataframe.svg\n",
    ":name: vector properties \n",
    "Structure of a `GeoDataFrame` extends the functionality of a Pandas `DataFrame`\n",
    "```\n",
    "\n",
    "Each `GeoSeries` can contain any geometry type (e.g. points, lines, polygon) and has a `GeoSeries.crs` attribute, which stores information on the projection (CRS stands for Coordinate Reference System). Therefore, each `GeoSeries` in a `GeoDataFrame` can be in a different projection, allowing you to have, for example, multiple versions of the same geometry, just in a different CRS.\n",
    "\n",
    "\n",
    "```{tip}  Becuase GeoPandas are so intertwined spend the time to learn more about here [Pandas User Guide](https://pandas.pydata.org/pandas-docs/stable/user_guide/index.html)\n",
    "```\n",
    "\n",
    "## Create Attributes\n",
    "\n",
    "One of the most basic operations is creating new attributes. Let's say for instance we want to look at the world population in millions. We can start with an existing column of data `pop_est`. Let's start by looking at the column names:"
   ]
  },
  {
   "cell_type": "code",
   "execution_count": 1,
   "id": "hybrid-devices",
   "metadata": {},
   "outputs": [
    {
     "data": {
      "text/plain": [
       "Index(['pop_est', 'continent', 'name', 'iso_a3', 'gdp_md_est', 'geometry'], dtype='object')"
      ]
     },
     "execution_count": 1,
     "metadata": {},
     "output_type": "execute_result"
    }
   ],
   "source": [
    "import geopandas\n",
    "world = geopandas.read_file(geopandas.datasets.get_path('naturalearth_lowres'))\n",
    "world.columns"
   ]
  },
  {
   "cell_type": "markdown",
   "id": "known-thesaurus",
   "metadata": {},
   "source": [
    "We can then do basic operations on the basis of column names. Here we create a new column `m_pop_est`:"
   ]
  },
  {
   "cell_type": "code",
   "execution_count": 2,
   "id": "exterior-article",
   "metadata": {},
   "outputs": [
    {
     "data": {
      "text/html": [
       "<div>\n",
       "<style scoped>\n",
       "    .dataframe tbody tr th:only-of-type {\n",
       "        vertical-align: middle;\n",
       "    }\n",
       "\n",
       "    .dataframe tbody tr th {\n",
       "        vertical-align: top;\n",
       "    }\n",
       "\n",
       "    .dataframe thead th {\n",
       "        text-align: right;\n",
       "    }\n",
       "</style>\n",
       "<table border=\"1\" class=\"dataframe\">\n",
       "  <thead>\n",
       "    <tr style=\"text-align: right;\">\n",
       "      <th></th>\n",
       "      <th>pop_est</th>\n",
       "      <th>continent</th>\n",
       "      <th>name</th>\n",
       "      <th>iso_a3</th>\n",
       "      <th>gdp_md_est</th>\n",
       "      <th>geometry</th>\n",
       "      <th>m_pop_est</th>\n",
       "    </tr>\n",
       "  </thead>\n",
       "  <tbody>\n",
       "    <tr>\n",
       "      <th>0</th>\n",
       "      <td>920938</td>\n",
       "      <td>Oceania</td>\n",
       "      <td>Fiji</td>\n",
       "      <td>FJI</td>\n",
       "      <td>8374.0</td>\n",
       "      <td>MULTIPOLYGON (((180.00000 -16.06713, 180.00000...</td>\n",
       "      <td>0.920938</td>\n",
       "    </tr>\n",
       "    <tr>\n",
       "      <th>1</th>\n",
       "      <td>53950935</td>\n",
       "      <td>Africa</td>\n",
       "      <td>Tanzania</td>\n",
       "      <td>TZA</td>\n",
       "      <td>150600.0</td>\n",
       "      <td>POLYGON ((33.90371 -0.95000, 34.07262 -1.05982...</td>\n",
       "      <td>53.950935</td>\n",
       "    </tr>\n",
       "  </tbody>\n",
       "</table>\n",
       "</div>"
      ],
      "text/plain": [
       "    pop_est continent      name iso_a3  gdp_md_est  \\\n",
       "0    920938   Oceania      Fiji    FJI      8374.0   \n",
       "1  53950935    Africa  Tanzania    TZA    150600.0   \n",
       "\n",
       "                                            geometry  m_pop_est  \n",
       "0  MULTIPOLYGON (((180.00000 -16.06713, 180.00000...   0.920938  \n",
       "1  POLYGON ((33.90371 -0.95000, 34.07262 -1.05982...  53.950935  "
      ]
     },
     "execution_count": 2,
     "metadata": {},
     "output_type": "execute_result"
    }
   ],
   "source": [
    "world['m_pop_est'] = world['pop_est'] / 1e6\n",
    "world.head(2)"
   ]
  },
  {
   "cell_type": "markdown",
   "id": "monthly-rapid",
   "metadata": {},
   "source": [
    "------------------------\n",
    "\n",
    "\n",
    "## Indexing and Selecting Data\n",
    "\n",
    "GeoPandas inherits the standard pandas methods for indexing/selecting data. This includes label based indexing with .loc and integer position based indexing with .iloc, which apply to both GeoSeries and GeoDataFrame objects. For more information on indexing/selecting, see the [pandas documentation](https://pandas.pydata.org/pandas-docs/stable/user_guide/index.html).\n",
    "\n",
    "\n",
    "### Selection by Index Position¶\n",
    " \n",
    "Pandas provides a suite of methods in order to get purely integer based indexing. The semantics follow closely Python and NumPy slicing. These are 0-based indexing. When slicing, the start bound is included, while the upper bound is excluded.  For instance `name = 'fudge'` with `name[0:3]` returns `'fud'`, where f is at 0 and g is at the 3 position with the upper bound excluded."
   ]
  },
  {
   "cell_type": "code",
   "execution_count": 3,
   "id": "activated-mexican",
   "metadata": {},
   "outputs": [
    {
     "data": {
      "image/png": "[encoded data removed]",
      "text/plain": [
       "<Figure size 720x360 with 1 Axes>"
      ]
     },
     "metadata": {
      "filenames": {
       "image/png": "/home/mmann1123/Documents/github/pyGIS/pygis/_build/jupyter_execute/_build_OLD/jupyter_execute/docs/c_attributes_5_0.png"
      },
      "needs_background": "light"
     },
     "output_type": "display_data"
    }
   ],
   "source": [
    "import matplotlib.pyplot as plt\n",
    "plt.style.use('bmh') # better for plotting geometries vs general plots.\n",
    "\n",
    "world = geopandas.read_file(geopandas.datasets.get_path('naturalearth_cities'))\n",
    "northern_world = world.iloc[ 0:4 ]    \n",
    "northern_world.plot(figsize=(10,5))  \n",
    "plt.show()"
   ]
  },
  {
   "cell_type": "markdown",
   "id": "described-residence",
   "metadata": {},
   "source": [
    "**Different choices for indexing**\n",
    "\n",
    "Object selection has had a number of user-requested additions in order to\n",
    "support more explicit location based indexing.  \n",
    "\n",
    "```{panels}\n",
    "\n",
    "* ``.loc`` is primarily label based, but may also be used with a boolean array. ``.loc`` will raise ``KeyError`` when the items are not found. Allowed inputs are:\n",
    "\n",
    "    * A single label, e.g. ``5`` or ``'a'`` (Note that ``5`` is interpreted as a\n",
    "      *label* of the index. This use is **not** an integer position along the\n",
    "      index.).\n",
    "    * A list or array of labels ``['a', 'b', 'c']``.\n",
    "    * A slice object with labels ``'a':'f'`` (Note that contrary to usual Python\n",
    "      slices, **both** the start and the stop are included, when present in the\n",
    "      index! See [Slicing with labels](https://pandas.pydata.org/pandas-docs/stable/user_guide/indexing.html#indexing-slicing-with-labels) \n",
    "      and [Endpoints are inclusive](https://pandas.pydata.org/pandas-docs/stable/user_guide/advanced.html#advanced-endpoints-are-inclusive) \n",
    "    * A boolean array (any ``NA`` values will be treated as ``False``).\n",
    "    * A ``callable`` function with one argument (the calling Series or DataFrame) and\n",
    "      that returns valid output for indexing (one of the above).\n",
    "\n",
    "  See more at [Selection by Label](https://pandas.pydata.org/pandas-docs/stable/user_guide/indexing.html#indexing-label).\n",
    "\n",
    "------------\n",
    "\n",
    "* ``.iloc`` is primarily integer position based (from ``0`` to\n",
    "  ``length-1`` of the axis), but may also be used with a boolean\n",
    "  array.  ``.iloc`` will raise ``IndexError`` if a requested\n",
    "  indexer is out-of-bounds, except *slice* indexers which allow\n",
    "  out-of-bounds indexing.  (this conforms with Python/NumPy *slice*\n",
    "  semantics).  Allowed inputs are:\n",
    "\n",
    "    * An integer e.g. ``5``.\n",
    "    * A list or array of integers ``[4, 3, 0]``.\n",
    "    * A slice object with integers ``1:7``.\n",
    "    * A boolean array (any ``NA`` values will be treated as ``False``).\n",
    "    * A ``callable`` function with one argument (the calling Series or DataFrame) and\n",
    "      that returns valid output for indexing (one of the above).\n",
    "\n",
    "  See more at : [Selection by Position](https://pandas.pydata.org/pandas-docs/stable/user_guide/indexing.html#indexing-integer) and\n",
    "  [Advanced Indexing](https://pandas.pydata.org/pandas-docs/stable/user_guide/advanced.html#advanced).\n",
    "\n",
    "* ``.loc``, ``.iloc``, and also ``[]`` indexing can accept a ``callable`` as indexer. See more at [Selection By Callable](https://pandas.pydata.org/pandas-docs/stable/user_guide/indexing.html#indexing-callable).\n",
    "\n",
    "```\n",
    "\n",
    "Getting values from an object with multi-axes selection uses the following\n",
    "notation (using ``.loc`` as an example, but the following applies to ``.iloc`` as\n",
    "well). Any of the axes accessors may be the null slice ``:``. Axes left out of\n",
    "the specification are assumed to be ``:``, e.g. ``p.loc['a']`` is equivalent to\n",
    "``p.loc['a', :, :]``.\n",
    "\n",
    "\n",
    "| Object Type    | Indexers    |\n",
    "| :--- | ---: |\n",
    "| Series    | `s.loc[indexer]`   |\n",
    "| DataFrame    | `df.loc[row_indexer,column_indexer]`   |\n",
    "\n",
    "### Coordinate Indexing \n",
    "In addition to the standard pandas methods, GeoPandas also provides coordinate based indexing with the cx indexer, which slices using a bounding box. Geometries in the GeoSeries or GeoDataFrame that intersect the bounding box will be returned.\n",
    "\n",
    "Using the world dataset, we can use this functionality to quickly select all cities in the northern and southern hemisphere using a `_CoordinateIndexer` using `.cx`. `.cx` allows you to quickly access the table's `geometry`, where indexing reflects `[x,y]` or `[lon,lat]`. Here we will query points above and below 0 degrees latitude:"
   ]
  },
  {
   "cell_type": "code",
   "execution_count": 4,
   "id": "settled-editor",
   "metadata": {},
   "outputs": [
    {
     "data": {
      "image/png": "[encoded data removed]",
      "text/plain": [
       "<Figure size 720x360 with 1 Axes>"
      ]
     },
     "metadata": {
      "filenames": {
       "image/png": "/home/mmann1123/Documents/github/pyGIS/pygis/_build/jupyter_execute/_build_OLD/jupyter_execute/docs/c_attributes_7_0.png"
      },
      "needs_background": "light"
     },
     "output_type": "display_data"
    }
   ],
   "source": [
    "world = geopandas.read_file(geopandas.datasets.get_path('naturalearth_cities'))\n",
    "northern_world = world.cx[ : , 0: ]   # subsets all rows above 0 with a slice\n",
    "northern_world.plot(figsize=(10, 5))\n",
    "plt.show()"
   ]
  },
  {
   "cell_type": "code",
   "execution_count": 5,
   "id": "infrared-sessions",
   "metadata": {},
   "outputs": [
    {
     "data": {
      "image/png": "[encoded data removed]",
      "text/plain": [
       "<Figure size 720x360 with 1 Axes>"
      ]
     },
     "metadata": {
      "filenames": {
       "image/png": "/home/mmann1123/Documents/github/pyGIS/pygis/_build/jupyter_execute/_build_OLD/jupyter_execute/docs/c_attributes_8_0.png"
      },
      "needs_background": "light"
     },
     "output_type": "display_data"
    }
   ],
   "source": [
    "world = geopandas.read_file(geopandas.datasets.get_path('naturalearth_cities'))\n",
    "southern_world = world.cx[ : , :0 ]   # subsets all rows below 0  with a slice\n",
    "southern_world.plot(figsize=(10, 5))\n",
    "plt.show()"
   ]
  }
 ],
 "metadata": {
  "jupytext": {
   "text_representation": {
    "extension": ".md",
    "format_name": "myst"
   }
  },
  "kernelspec": {
   "display_name": "Python 3",
   "language": "python",
   "name": "python3"
  },
  "language_info": {
   "codemirror_mode": {
    "name": "ipython",
    "version": 3
   },
   "file_extension": ".py",
   "mimetype": "text/x-python",
   "name": "python",
   "nbconvert_exporter": "python",
   "pygments_lexer": "ipython3",
   "version": "3.7.10"
  },
  "source_map": [
   10,
   31,
   35,
   38,
   41,
   55,
   63,
   128,
   135
  ]
 },
 "nbformat": 4,
 "nbformat_minor": 5
}