{
 "cells": [
  {
   "cell_type": "markdown",
   "metadata": {},
   "source": [
    "# Welcome to pyGILE_base Comprehensive Environment\n",
    "\n",
    "This Docker container includes the most comprehensive collection of geospatial Python packages available.\n",
    "\n",
    "## Quick Test"
   ]
  },
  {
   "cell_type": "code",
   "execution_count": null,
   "metadata": {},
   "outputs": [],
   "source": [
    "# Test core geospatial packages\n",
    "import geopandas as gpd\n",
    "import rasterio\n",
    "import folium\n",
    "import matplotlib.pyplot as plt\n",
    "import numpy as np\n",
    "\n",
    "print(\"All packages working!\")\n",
    "print(f\"GeoPandas version: {gpd.__version__}\")\n",
    "print(f\"Rasterio version: {rasterio.__version__}\")"
   ]
  },
  {
   "cell_type": "markdown",
   "metadata": {},
   "source": [
    "## Available Packages\n",
    "\n",
    "This environment includes:\n",
    "- **Core GIS**: GDAL, GeoPandas, Shapely, Fiona, PyProj\n",
    "- **Raster Analysis**: Rasterio, GeoWombat, Whitebox\n",
    "- **Visualization**: Folium, Contextily, HoloViews, GeoViews\n",
    "- **Earth Observation**: Satpy, PyResample\n",
    "- **Machine Learning**: TensorFlow, Scikit-learn, OpenCV\n",
    "- **Climate Data**: xESMF, CFGrib\n",
    "- **And many more...**"
   ]
  }
 ],
 "metadata": {
  "kernelspec": {
   "display_name": "Python 3",
   "language": "python",
   "name": "python3"
  },
  "language_info": {
   "name": "python",
   "version": "3.10.0"
  }
 },
 "nbformat": 4,
 "nbformat_minor": 4
}
