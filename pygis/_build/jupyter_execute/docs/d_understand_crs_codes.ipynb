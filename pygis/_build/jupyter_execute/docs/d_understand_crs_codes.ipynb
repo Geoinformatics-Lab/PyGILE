{
 "cells": [
  {
   "cell_type": "markdown",
   "id": "fde71c3e",
   "metadata": {},
   "source": [
    "(d_understand_crs_codes)=\n",
    "\n",
    "# Understanding a CRS: Proj4 and CRS codes\n",
    "----------------\n",
    "\n",
    "```{admonition} Learning Objectives\n",
    "* Understand how to read a `PROJ.4` string\n",
    "* Understand how a `PROJ.4` string relates to an `EPSG` code\n",
    "* Visually explore changing `PROJ.4` string parameters\n",
    "```\n",
    "```{admonition} Review\n",
    "* [CRS what is it?](d_crs_what_is_it)\n",
    "```\n",
    "---------------- \n",
    "\n",
    "By: Steven Chao\n",
    "\n",
    "---------------\n",
    "\n",
    "## Intro to Coordinate Reference Systems\n",
    "\n",
    "\n",
    "A coordinate reference system tells Python where and how to place coordinates on Earth's surface. For a detailed lesson on projections please go [here](d_crs_what_is_it).\n",
    "\n",
    "As you may recall, a coordinate reference system can either be a geographic coordinate system or a projected coordinate system (also known as a map projection). A geographic coordinate system consists of a datum, which consists of an ellipsoid model and how this ellipsoid is aligned with the geoid. It's spherical in nature, and units are typically angular (latitude and longitude). A projected coordinate system is created by taking a geographic coordinate system and using math to transform a 3-D surface onto a flat, 2-D surface. Units are typically linear and are oftentimes measured in meters. For a refresher on coordinate systems, check out this [YouTube video](https://youtu.be/HnWNhyxyUHg).\n",
    "\n",
    "All map projections introduce error because they are inherently imperfect. The \"best\" or \"perfect\" projection to use is highly dependent on what needs to be mapped and where. Therefore, as you can expect, there are many projections to choose from.\n",
    "\n",
    "\n",
    "---\n",
    "\n",
    "In this chapter, we will check, utilize, change, and create CRSs in Python. To provide visual examples along the way, we will use a shapefile of the Washington, DC, boundary from Open Data DC (https://opendata.dc.gov/datasets/washington-dc-boundary).\n",
    "\n",
    "Let's begin by reading in this dataset (no need to download the shapefile as we will pull it directly from the website)."
   ]
  },
  {
   "cell_type": "code",
   "execution_count": null,
   "id": "df575130",
   "metadata": {},
   "outputs": [],
   "source": [
    "# Import module\n",
    "import geopandas as gpd\n",
    "\n",
    "# Read data (shapefile)\n",
    "dc = gpd.read_file(\"https://opendata.arcgis.com/datasets/7241f6d500b44288ad983f0942b39663_10.geojson\")"
   ]
  },
  {
   "cell_type": "markdown",
   "id": "edb186b5",
   "metadata": {},
   "source": [
    "Let's also define a function that will allow us to quickly produce a map of our data."
   ]
  },
  {
   "cell_type": "code",
   "execution_count": null,
   "id": "9da0f8f1",
   "metadata": {},
   "outputs": [],
   "source": [
    "# Import module\n",
    "import matplotlib.pyplot as plt\n",
    "\n",
    "def map_data(data, header):\n",
    "    '''Function superimposes all the data on a map and sets a title for the map.'''    \n",
    "    \n",
    "    # Create subplots\n",
    "    fig, ax = plt.subplots(figsize = (10, 5))\n",
    "    \n",
    "    # Set colors\n",
    "    colors = [\"#a3ddcb\", \"#03506f\"]\n",
    "    \n",
    "    # Iterate through list of data and colors to superimpose them onto map\n",
    "    for i in range(0, len(data)):\n",
    "        data[i].plot(facecolor = colors[i], ax = ax)\n",
    "    \n",
    "    # Add title\n",
    "    plt.title(header)\n",
    "    \n",
    "    # Utilize BMH plotting style\n",
    "    plt.style.use(\"bmh\")\n",
    "    \n",
    "    # Remove empty white space around the plot\n",
    "    plt.tight_layout()"
   ]
  },
  {
   "cell_type": "markdown",
   "id": "2ba8f233",
   "metadata": {},
   "source": [
    "Now, we can see how the shapefile we just read in looks like."
   ]
  },
  {
   "cell_type": "code",
   "execution_count": null,
   "id": "3f5cc732",
   "metadata": {},
   "outputs": [],
   "source": [
    "# Create map using DC shapefile\n",
    "map_data([dc], \"Washington, DC\")"
   ]
  },
  {
   "cell_type": "markdown",
   "id": "3bd9f400",
   "metadata": {},
   "source": [
    "It looks like Washington, DC, albeit a bit squished! Next, let's see how we can work with CRSs in Python.\n",
    "\n",
    "\n",
    "\n",
    "## Checking and Setting Coordinate Reference Systems in Python\n",
    "\n",
    "### Checking a dataset's coordinate reference system\n",
    "\n",
    "To check the dataset's CRS (assuming it has one), use the `.crs` attribute."
   ]
  },
  {
   "cell_type": "code",
   "execution_count": null,
   "id": "2ddfdf7e",
   "metadata": {},
   "outputs": [],
   "source": [
    "# Get CRS for DC shapefile\n",
    "print(\"CRS: {}\".format(dc.crs))"
   ]
  },
  {
   "cell_type": "markdown",
   "id": "9e9d7451",
   "metadata": {},
   "source": [
    "For our shapefile, the output is a dictionary with a value of `'epsg:4326'`. We'll cover what this means in more detail later in this chapter, but just know for now that an `EPSG` code is a way to reference a CRS.\n",
    "\n",
    "\n",
    "\n",
    "### Change a dataset's CRS\n",
    "\n",
    "To change a dataset's CRS, we'll need to reproject the data. Here, we will project copies of our data twice using the `to_crs()` function, once with a `PROJ.4` string and once with an `EPSG` code. Both of these values reference the same CRS (in this case, NAD83)--they are simply different ways to reference it. The projection will remain in latitude and longitude, but we will change the ellipsoid and datum."
   ]
  },
  {
   "cell_type": "code",
   "execution_count": null,
   "id": "3214e1bb",
   "metadata": {},
   "outputs": [],
   "source": [
    "# Example 1: Create a copy of the DC shapefile\n",
    "dc_reproject_proj4 = dc.copy()\n",
    "\n",
    "# Example 1: Reproject the data to NAD83 using PROJ.4 string\n",
    "# Source: https://spatialreference.org/ref/epsg/nad83/\n",
    "dc_reproject_proj4 = dc_reproject_proj4.to_crs(\"+proj=longlat +ellps=GRS80 +datum=NAD83 +no_defs\")\n",
    "\n",
    "\n",
    "# Example 2: Create a copy of the DC shapefile\n",
    "dc_reproject_epsg = dc.copy()\n",
    "\n",
    "# Example 2: Reproject the data to NAD83 using EPSG code\n",
    "dc_reproject_epsg = dc_reproject_epsg.to_crs(epsg=4269)"
   ]
  },
  {
   "cell_type": "markdown",
   "id": "52d087e0",
   "metadata": {},
   "source": [
    "There are some other formats we can pass as values, but we'll cover `PROJ.4` string and `EPSG` in this chapter.\n",
    "\n",
    "When we call the `.crs` attribute, it's no longer `'epsg:4326'`, which means that the data has been reprojected!"
   ]
  },
  {
   "cell_type": "code",
   "execution_count": null,
   "id": "af517919",
   "metadata": {},
   "outputs": [],
   "source": [
    "# Example 1: Print new CRS of DC\n",
    "print(\"Example 1 (PROJ.4 string) CRS: {}\".format(dc_reproject_proj4.crs))\n",
    "\n",
    "# Example 2: Print new CRS of DC\n",
    "print(\"Example 2 (EPSG code) CRS: {}\".format(dc_reproject_epsg.crs))"
   ]
  },
  {
   "cell_type": "markdown",
   "id": "c5ad42dc",
   "metadata": {},
   "source": [
    "## PROJ.4 String\n",
    "\n",
    "A `PROJ.4` string identifies and defines a particular CRS. The string holds the parameters (e.g., units, datum) of a given CRS.\n",
    "\n",
    "Sources: [Using PROJ](https://proj.org/usage/quickstart.html); [Lesson 4. Understand EPSG, WKT and Other CRS Definition Styles, Leah Wasser](https://www.earthdatascience.org/courses/use-data-open-source-python/intro-vector-data-python/spatial-data-vector-shapefiles/epsg-proj4-coordinate-reference-system-formats-python/)\n",
    "\n",
    "\n",
    "### What is in a PROJ.4 string?\n",
    "\n",
    "Multiple parameters are needed in the string to describe a CRS. To separate the parameters in the string and identify each individual parameter, each parameter begins with a `+` sign. A CRS parameter is defined after the `+` sign.\n",
    "\n",
    "A few `PROJ.4` parameters can be applied to most CRSs:\n",
    "\n",
    "| Parameter | Description |\n",
    "| ----------- | ------------------------------- |\n",
    "| `+a` | Semimajor radius of the ellipsoid axis |\n",
    "| `+axis` | Axis orientation |\n",
    "| `+b` | Semiminor radius of the ellipsoid axis |\n",
    "| `+ellps` | Ellipsoid name |\n",
    "| `+k_0` | Scaling factor |\n",
    "| `+lat_0` | Latitude of origin |\n",
    "| `+lat_1 or 2` | Standard parallels |\n",
    "| `+lon_0` | Central meridian |\n",
    "| `+lon_wrap` | Center longitude to use for wrapping |\n",
    "| `+over` | Allow longitude output outside -180 to 180 range, disables wrapping |\n",
    "| `+pm` | Alternate prime meridian (typically a city name) |\n",
    "| `+proj` | Projection name |\n",
    "| `+units` | meters, US survey feet, etc. |\n",
    "| `+vunits` | vertical units |\n",
    "| `+x_0` | False easting |\n",
    "| `+y_0` | False northing |\n",
    "\n",
    "Some parameters (not listed above) are specific to certain CRSs. Be sure to always verify the parameters that are allowed for each projection. You can't always \"mix and match\" the `PROJ.4` parameters when creating a custom projection.\n",
    "\n",
    "\n",
    "These parameters can be confusing. To help with this we developed some visual examples. \n",
    "\n",
    "Take for instance lambert conformal conic with the proj4 string of \"+proj=lcc +lat_1=20 +lat_2=60 lon_0=-96 +datum=NAD83 +units=m\". We can see that `lat_1` and `lat_2` specify the standard parallels. This is an example of a \"secant\" projection which touches the globe in two places in order to minimize distortion.  The central meridian `lon_0` is moved away from Greenwich England 96 degrees W to be over roughly Dallas TX. \n",
    "\n",
    "```{figure} ../_static/d_crs/d_LambertProj_Code.png\n",
    ":name: Visualization of lambert conformal conic Proj4 string\n",
    "Visualization of lambert conformal conic Proj4 string\n",
    "```\n",
    "\n",
    "We can look at another example for a UTM projection with the proj4 string of \"+proj=tmerc +lon_0=-99 +x_0=500,000 units=m\". This projection by comparison has a central meridian `lon_0` directly over Dallas TX which is 99 degrees W of Greenwich. This central meridan is assigned the 'false easting' `x_0` of 500,000 meters.  \n",
    "\n",
    "```{figure} ../_static/d_crs/d_MercatorProj_Code.png\n",
    ":name: Visualization of UTM zone 14 Proj4 string\n",
    "Visualization of UTM zone 14 Proj4 string\n",
    "```\n",
    "\n",
    "Sources: [Cartographic projection](https://proj.org/usage/projections.html); [Using PROJ](https://proj.org/usage/quickstart.html); [Lesson 4. Understand EPSG, WKT and Other CRS Definition Styles, Leah Wasser](https://www.earthdatascience.org/courses/use-data-open-source-python/intro-vector-data-python/spatial-data-vector-shapefiles/epsg-proj4-coordinate-reference-system-formats-python/)\n",
    "\n",
    "\n",
    "### Creating a custom CRS using PROJ.4 string\n",
    "\n",
    "We can change the parameters to create a custom CRS that suits our specific needs. In this section, we will create a CRS tailored to our DC shapefile.\n",
    "\n",
    "Below is the original shapefile of DC that we read in above--this will serve as a reference point for comparison."
   ]
  },
  {
   "cell_type": "code",
   "execution_count": null,
   "id": "8845baef",
   "metadata": {},
   "outputs": [],
   "source": [
    "# Map original DC shapefile\n",
    "map_data([dc], \"Washington, DC - WGS84\")"
   ]
  },
  {
   "cell_type": "markdown",
   "id": "f46119a6",
   "metadata": {},
   "source": [
    "The map above utilizes a geographic coordinate system, as evidenced by the latitude and longitude values on the axes. Another way to check is to look at the geometry of the shapefile."
   ]
  },
  {
   "cell_type": "code",
   "execution_count": null,
   "id": "f5eee8c3",
   "metadata": {},
   "outputs": [],
   "source": [
    "# Check geometry values of original shapefile\n",
    "print(\"Geometry of shapefile:\\n{}\".format(dc['geometry'].head()))"
   ]
  },
  {
   "cell_type": "markdown",
   "id": "12c4859c",
   "metadata": {},
   "source": [
    "Looks like latitude and longitude coordinates!\n",
    "\n",
    "#### Reprojecting shapefile to a projected coordinate system\n",
    "\n",
    "Now, we will reproject the shapefile using a projected coordinate system. Here, we will use the Lambert Conformal Conic projection."
   ]
  },
  {
   "cell_type": "code",
   "execution_count": null,
   "id": "09629ffa",
   "metadata": {},
   "outputs": [],
   "source": [
    "# Create a copy of the DC shapefile\n",
    "dc_lcc = dc.copy()\n",
    "\n",
    "# Reproject the data to Lambert Conformal Conic\n",
    "# Source: https://proj.org/operations/projections/lcc.html\n",
    "dc_lcc = dc_lcc.to_crs(\"+proj=lcc +lon_0=-90 +lat_1=33 +lat_2=45 +ellps=GRS80\")\n",
    "\n",
    "# Map reprojected DC shapefile\n",
    "map_data([dc_lcc], \"Washington, DC - Lambert Conformal Conic\")\n",
    "\n",
    "# Check geometry values\n",
    "print(\"Geometry of shapefile:\\n{}\".format(dc_lcc['geometry'].head()))"
   ]
  },
  {
   "cell_type": "markdown",
   "id": "8f7cf80d",
   "metadata": {},
   "source": [
    "Notice how the values on the axes changed from latitude and longitude to meters.\n",
    "\n",
    "#### Setting center point of projection\n",
    "\n",
    "Also notice how the DC appears to be \"tilted\" to the left when compared to DC mapped using the previous CRS (WGS84). That's because the center of this projection is at the 90th meridian west (`+lon_0=-90`; negative is used to denote West) and the Equator (`+lat_0=0`; `0` is the default value when not specified in the `PROJ.4` string).\n",
    "\n",
    "We can change the values for `lat_0` and `lon_0`, which refer to the latitude of origin and the central meridian, respectively. We will change those values to `38.9072` and `-77.0369`, which is the center of DC."
   ]
  },
  {
   "cell_type": "code",
   "execution_count": null,
   "id": "b173fdab",
   "metadata": {},
   "outputs": [],
   "source": [
    "# Create a copy of the DC shapefile\n",
    "dc_lcc_center = dc.copy()\n",
    "\n",
    "# Reproject the data to Lambert Conformal Conic with specified center point\n",
    "dc_lcc_center = dc_lcc_center.to_crs(\"+proj=lcc +lat_0=38.9072 +lon_0=-77.0369 +lat_1=33 +lat_2=45 +ellps=GRS80\")\n",
    "\n",
    "# Map reprojected DC shapefile\n",
    "map_data([dc_lcc_center], \"Washington, DC - Lambert Conformal Conic\\nDC as Center\")"
   ]
  },
  {
   "cell_type": "markdown",
   "id": "66cf7dd3",
   "metadata": {},
   "source": [
    "As seen in the new map above, the values on both axes have changed. The origin `(0, 0)` is now in the center of DC.\n",
    "\n",
    "#### Setting and exploring standard parallels\n",
    "\n",
    "The [`PROJ.4` string for this projection](https://proj.org/operations/projections/lcc.html) has two additional parameters `lat_1` and `lat_2`, which specify the first and second parallel respectively. Recall that a conic projection \"intersects\" a globe at what is termed the standard parallels.\n",
    "\n",
    "Here, we will set our two standard parallels at `38.850` and `39.950` as they fall within the DC boundaries."
   ]
  },
  {
   "cell_type": "code",
   "execution_count": null,
   "id": "786f4e45",
   "metadata": {},
   "outputs": [],
   "source": [
    "# Create a copy of the DC shapefile\n",
    "dc_lcc_parallels_1 = dc.copy()\n",
    "\n",
    "# Reproject the data to Lambert Conformal Conic with specified center point and standard parallels\n",
    "dc_lcc_parallels_1 = dc_lcc_parallels_1.to_crs(\"+proj=lcc +lat_0=38.9072 +lon_0=-77.0369 +lat_1=38.850 +lat_2=39.950 +ellps=GRS80\")\n",
    "\n",
    "# Map reprojected DC shapefile\n",
    "map_data([dc_lcc_parallels_1], \"Washington, DC - Lambert Conformal Conic\\nStandard Parallels in DC\")"
   ]
  },
  {
   "cell_type": "markdown",
   "id": "ad70d132",
   "metadata": {},
   "source": [
    "Nothing really appears to be different; however, these values are important. Look what happens when we assign different values--ones that don't really make sense for mapping in DC--and compare the resulting DC map to the previous map."
   ]
  },
  {
   "cell_type": "code",
   "execution_count": null,
   "id": "ace92bd0",
   "metadata": {},
   "outputs": [],
   "source": [
    "# Create a copy of the DC shapefile\n",
    "dc_lcc_parallels_2 = dc.copy()\n",
    "\n",
    "# # Reproject the data to Lambert Conformal Conic with specified center point and arbitrary standard parallels\n",
    "dc_lcc_parallels_2 = dc_lcc_parallels_2.to_crs(\"+proj=lcc +lat_0=38.9072 +lon_0=-77.0369 +lat_1=10 +lat_2=60 +ellps=GRS80\")\n",
    "\n",
    "# Map reprojected DC shapefile\n",
    "map_data([dc_lcc_parallels_1, dc_lcc_parallels_2], \"Washington, DC - Lambert Conformal Conic\\nComparing Standard Parallels\")"
   ]
  },
  {
   "cell_type": "markdown",
   "id": "6849e82a",
   "metadata": {},
   "source": [
    "It appears DC has shrunk! Of course, that's not the case in reality, but because map projections are inherently imperfect, choosing arbitrary parameters can make things worse. In this case, since the chosen standard parallels are relatively far from each other and from DC, all the data in between the standard parallels end up being compressed even more. For more information, check out this [Esri publication on map projections](https://giscourses.cfans.umn.edu/sites/giscourses.cfans.umn.edu/files/understanding_map_projections.pdf).\n",
    "\n",
    "#### Setting false easting and false northing\n",
    "\n",
    "Finally, two other parameters we can change are `+x_0` and `+y_0`, which are false easting and false northing respectively. The values assigned to these parameters simply offset the axes by the respective values; they do not change or affect the projection. False easting (with a value of 500,000 m) is used in Universal Tranverse Mercator (UTM) projections so that negative coordinates are avoided to the west of the central meridian in each zone. Similarly, false northing (with a value of 10,000,000 m) is also used to avoid negative coordinates when a UTM zone is in the southern hemisphere.\n",
    "\n",
    "Let's set a false easting value of `500000` and a false northing value of `0`."
   ]
  },
  {
   "cell_type": "code",
   "execution_count": null,
   "id": "cb048124",
   "metadata": {},
   "outputs": [],
   "source": [
    "# Create a copy of the DC shapefile\n",
    "dc_lcc_false_e = dc.copy()\n",
    "\n",
    "# Reproject the data to Lambert Conformal Conic with specified center point, standard parallels, and false easting/northing\n",
    "dc_lcc_false_e = dc_lcc_false_e.to_crs(\"+proj=lcc +lat_0=38.9072 +lon_0=-77.0369 +lat_1=38.850 +lat_2=39.950 +x_0=500000 +y_0=0 +ellps=GRS80\")\n",
    "\n",
    "# Map reprojected DC shapefile\n",
    "map_data([dc_lcc_false_e], \"Washington, DC - Lambert Conformal Conic\\nFalse Easting\")"
   ]
  },
  {
   "cell_type": "markdown",
   "id": "c094f74f",
   "metadata": {},
   "source": [
    "Notice that the x-axis shifted to the left by 500,000 meters. The y-axis stayed the same because we did not use false northing. Now, the \"origin\" is `(500000, 0)`.\n",
    "\n",
    "Source: [Universal Transverse Mercator system, Hunter College Department of Geography and Environmental Science](http://www.geo.hunter.cuny.edu/~jochen/gtech201/lectures/lec6concepts/Map%20coordinate%20systems/UTM%20and%20UPS.htm)\n",
    "\n",
    "#### Comparing custom projection to Universal Tranverse Mercator\n",
    "\n",
    "UTM is conformal. So let's compare our custom projection to UTM Zone 18N (in which DC falls)."
   ]
  },
  {
   "cell_type": "code",
   "execution_count": null,
   "id": "998b4b22",
   "metadata": {},
   "outputs": [],
   "source": [
    "# Create a copy of the DC shapefile\n",
    "dc_utm18n = dc.copy()\n",
    "\n",
    "# Reproject the data to UTM Zone 18N\n",
    "# Source: https://www.spatialreference.org/ref/epsg/wgs-84-utm-zone-18n/\n",
    "dc_utm18n = dc_utm18n.to_crs(\"+proj=utm +zone=18 +ellps=WGS84 +datum=WGS84 +units=m +no_defs\")\n",
    "\n",
    "# Map reprojected DC shapefile\n",
    "map_data([dc_utm18n], \"Washington, DC - UTM Zone 18N\")"
   ]
  },
  {
   "cell_type": "markdown",
   "id": "10e9e37d",
   "metadata": {},
   "source": [
    "Looks pretty much the same as our custom one!\n",
    "\n",
    "Source: [Universal Transverse Mercator, Esri](https://desktop.arcgis.com/en/arcmap/10.3/guide-books/map-projections/universal-transverse-mercator.htm)"
   ]
  },
  {
   "cell_type": "markdown",
   "id": "c56a3efc",
   "metadata": {},
   "source": [
    "## EPSG Codes\n",
    "\n",
    "Many CRSs are assigned and can be referenced by an `EPSG` code, which consists of a four or five digit number. `EPSG` stands for the European Petroleum Survey Group, a now-defunct organization that compiled this CRS dataset. `EPSG` codes can be further explored with the [EPSG Geodetic Parameter Dataset](http://www.epsg-registry.org/) or at [SpatialReference.org](https://spatialreference.org/ref/epsg/).\n",
    "\n",
    "Sources:\n",
    "[Overview of Coordinate Reference Systems (CRS) in R, University of California, Santa Barbara](https://www.nceas.ucsb.edu/sites/default/files/2020-04/OverviewCoordinateReferenceSystems.pdf); [Lesson 4. Understand EPSG, WKT and Other CRS Definition Styles, Leah Wasser](https://www.earthdatascience.org/courses/use-data-open-source-python/intro-vector-data-python/spatial-data-vector-shapefiles/epsg-proj4-coordinate-reference-system-formats-python/)\n",
    "\n",
    "### Obtaining EPSG code from PROJ.4 string\n",
    "\n",
    "Not all CRSs have a corresponding `EPSG` code, but we can find the `EPSG` code (if it exists) given a `PROJ.4` string. To do so, we can use the `to_espg()` function in the `pyproj` module."
   ]
  },
  {
   "cell_type": "code",
   "execution_count": null,
   "id": "2fee1c69",
   "metadata": {},
   "outputs": [],
   "source": [
    "# Import module\n",
    "import pyproj\n",
    "\n",
    "def get_epsg(proj4_string, min_confidence = 70):\n",
    "    '''Function takes a PROJ.4 string and optional minimum confidence level as inputs and outputs the relevant EPSG code, if one exists. Source: https://geopandas.org/docs/user_guide/projections.html'''\n",
    "    \n",
    "    # Get relevant EPSG at the specified minimum confidence level\n",
    "    return pyproj.CRS(proj4_string).to_epsg(min_confidence = min_confidence)\n",
    "\n",
    "\n",
    "# Set variable to the PROJ.4 string of NAD83 / California zone 3\n",
    "# Source: https://www.spatialreference.org/ref/epsg/26943/\n",
    "proj4_full = \"+proj=lcc +lat_1=38.43333333333333 +lat_2=37.06666666666667 +lat_0=36.5 +lon_0=-120.5 +x_0=2000000 +y_0=500000 +ellps=GRS80 +datum=NAD83 +units=m +no_defs\"\n",
    "\n",
    "# Call function to obtain relevant EPSG code\n",
    "result = get_epsg(proj4_full)\n",
    "\n",
    "# Print result\n",
    "print(\"EPSG code for {}: {}.\".format(proj4_full, result))"
   ]
  },
  {
   "cell_type": "markdown",
   "id": "064d2a82",
   "metadata": {},
   "source": [
    "Success! In the example above, we were able to successfully obtain the `EPSG` code (in this case, `26943` for NAD83 / California zone 3) because it is exactly matched to the `PROJ.4` string. If we're missing some information in the `PROJ.4` string, however, we might not be able to get an exact `EPSG` code match."
   ]
  },
  {
   "cell_type": "code",
   "execution_count": null,
   "id": "4f8d8fef",
   "metadata": {},
   "outputs": [],
   "source": [
    "# Set variable to the PROJ.4 string of NAD83 / California zone 3, with a few parameters missing\n",
    "proj4_missing = \"+proj=lcc +lat_1=38.43333333333333 +lat_2=37.06666666666667 +lat_0=36.5 +lon_0=-120.5 +ellps=GRS80 +datum=NAD83 +units=m +no_defs\"\n",
    "\n",
    "# Call function to obtain relevant EPSG code\n",
    "result_missing = get_epsg(proj4_missing)\n",
    "\n",
    "# Print result\n",
    "print(\"EPSG code for {}: {}.\".format(proj4_missing, result_missing))"
   ]
  },
  {
   "cell_type": "markdown",
   "id": "6d742954",
   "metadata": {},
   "source": [
    "Source: [Managing Projections: Coordinate Reference Systems, GeoPandas](https://geopandas.org/docs/user_guide/projections.html)\n",
    "\n",
    "#### Lowering minimum confidence parameter\n",
    "\n",
    "We can lower the min_confidence parameter value in the `to_epsg()` function, which will cause the function to return an `EPSG` code that is the closest match to the provided `PROJ.4` string."
   ]
  },
  {
   "cell_type": "code",
   "execution_count": null,
   "id": "2dbf1f3e",
   "metadata": {},
   "outputs": [],
   "source": [
    "# Call function to obtain relevant EPSG code and lower the minimum confidence value\n",
    "result_lower_confidence = get_epsg(proj4_missing, min_confidence = 20)\n",
    "\n",
    "# Print result\n",
    "print(\"EPSG code for {}: {}.\".format(proj4_missing, result_lower_confidence))"
   ]
  },
  {
   "cell_type": "markdown",
   "id": "5234f888",
   "metadata": {},
   "source": [
    "Source: [Managing Projections: Coordinate Reference Systems, GeoPandas](https://geopandas.org/docs/user_guide/projections.html)\n",
    "\n",
    "To get the `PROJ.4` string from an `EPSG` code, we can [use the `rasterio` module](https://rasterio.readthedocs.io/en/latest/api/rasterio.crs.html).\n",
    "\n",
    "\n",
    "\n",
    "\n",
    "\n",
    "Sources: [Overview of Coordinate Reference Systems (CRS) in R, University of California, Santa Barbara](https://www.nceas.ucsb.edu/sites/default/files/2020-04/OverviewCoordinateReferenceSystems.pdf); [Chapter 9: Coordinate Systems, Manuel Gimond](https://mgimond.github.io/Spatial/chp09-0.html); [Coordinate Systems: What's the Difference?, Esri](https://www.esri.com/arcgis-blog/products/arcgis-pro/mapping/coordinate-systems-difference/); [Map projections, Henrikki Tenkanen](https://automating-gis-processes.github.io/CSC18/lessons/L2/projections.html); [Map projections, Henrikki Tenkanen & Vuokko Heikinheimo](https://autogis-site.readthedocs.io/en/stable/notebooks/L2/projections.html)"
   ]
  }
 ],
 "metadata": {
  "jupytext": {
   "text_representation": {
    "extension": ".md",
    "format_name": "myst"
   }
  },
  "kernelspec": {
   "display_name": "Python 3",
   "language": "python",
   "name": "python3"
  },
  "myst": {
   "html_meta": {
    "description lang=en": "Learn how to interpret and use coordinate reference codes like proj4strings, and EPSG codes. This includes defining a CRS, creating custom projections, interpreting proj4strings, with examples of false easting and northing, and changing the prime meridian.",
    "description lang=es": "Aprenda a interpretar y utilizar códigos de referencia de coordenadas como proj4strings y códigos EPSG. Esto incluye la definición de un CRS, la creación de proyecciones personalizadas, la interpretación de cadenas de proyectos, con ejemplos de falso este y norte, y el cambio del primer meridiano.",
    "description lang=fr": "Apprenez à interpréter et à utiliser des codes de référence de coordonnées tels que proj4strings et codes EPSG. Cela comprend la définition d'un CRS, la création de projections personnalisées, l'interprétation de chaînes de projection, avec des exemples de faux est et nord, et la modification du méridien principal.",
    "keywords": "spatial, crs, proj4string, EPSG, coordinate reference system, projection",
    "property=og:locale": "en_US"
   }
  },
  "source_map": [
   17,
   54,
   60,
   64,
   89,
   93,
   96,
   108,
   111,
   121,
   135,
   141,
   147,
   209,
   212,
   216,
   219,
   227,
   240,
   250,
   259,
   269,
   278,
   282,
   291,
   301,
   310,
   320,
   330,
   336,
   349,
   369,
   373,
   382,
   390,
   396
  ]
 },
 "nbformat": 4,
 "nbformat_minor": 5
}