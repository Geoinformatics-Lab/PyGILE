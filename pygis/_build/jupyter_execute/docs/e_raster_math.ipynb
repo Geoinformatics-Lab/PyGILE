{
 "cells": [
  {
   "cell_type": "markdown",
   "id": "e25b4f73",
   "metadata": {},
   "source": [
    "# Band Math w. Rasterio\n",
    "\n",
    "----------------\n",
    "\n",
    "```{admonition} Learning Objectives\n",
    "* Conduct mathematical operations on raster bands with rasterio\n",
    "* Understand the requirements for successful mathematical operations\n",
    "```\n",
    "```{admonition} Review\n",
    "* [Reproject Rasters w. Rasterio and Geowombat](e_raster_reproject.md)\n",
    "* [Resampling Rasters w. Rasterio and Geowombat](e_raster_resample.md)\n",
    "```\n",
    "\n",
    "----------------\n",
    "\n",
    "Band math is useful when you want to perform a mathematical operation to each pixel value in a raster. You might find band math helpful for calculating NDVI or multiplying all values by a constant.\n",
    "\n",
    "## Setup\n",
    "\n",
    "To begin, we will import our modules (click the + below to show code cell)."
   ]
  },
  {
   "cell_type": "code",
   "execution_count": null,
   "id": "d1e9c774",
   "metadata": {
    "tags": [
     "hide-cell"
    ]
   },
   "outputs": [],
   "source": [
    "# Import modules\n",
    "import numpy as np\n",
    "import matplotlib.pyplot as plt\n",
    "import rasterio\n",
    "from rasterio.transform import Affine"
   ]
  },
  {
   "cell_type": "markdown",
   "id": "24481808",
   "metadata": {},
   "source": [
    "## Band Math with rasterio with multiple images\n",
    "\n",
    "`Rasterio` makes band math relatively straightforward since the rasters are essentially read in as numpy arrays, so you can perform math on the raster arrays just like any numpy array.\n",
    "\n",
    "```{attention}\n",
    "Mathematical operations on rasters using `rasterio` are not spatially aware. Any mathematical operation with multiple rasters will work even if the rasters are not representing the same geographical extent. Consequently, you need to ensure that the cell size and extent represented in all rasters are the same. In other words, if you are using two rasters in a mathematical operation, they must have the same shape (same number of rows and columns).\n",
    "```\n",
    "\n",
    "In this example we will write two raster files to the disk: `math_raster_a.tif` and `math_raster_b.tif`. We will then read then back in and do math on them. Let's generate some rasters (click the + below to show code cell)."
   ]
  },
  {
   "cell_type": "code",
   "execution_count": null,
   "id": "761a0117",
   "metadata": {
    "tags": [
     "hide-cell"
    ]
   },
   "outputs": [],
   "source": [
    "# Generate mesh grid for rasters\n",
    "x = np.linspace(-90, 90, 6)\n",
    "y = np.linspace(90, -90, 6)\n",
    "X, Y = np.meshgrid(x, y)\n",
    "\n",
    "# Generate values for mesh grid\n",
    "Z1 = np.abs(((X - 10) ** 2 + (Y - 10) ** 2) / 1 ** 2)\n",
    "Z2 = np.abs(((X + 10) ** 2 + (Y + 10) ** 2) / 2.5 ** 2)\n",
    "Z3 = np.abs(((X + 3) + (Y - 8) ** 2) / 3 ** 2)\n",
    "\n",
    "# Generate raster values for two rasters\n",
    "Z_a = (Z1 - Z2)\n",
    "Z_b = (Z2 - Z3)\n",
    "\n",
    "# Set transform\n",
    "xres = (x[-1] - x[0]) / len(x)\n",
    "yres = (y[-1] - y[0]) / len(y)\n",
    "transform = Affine.translation(x[0] - xres / 2, y[0] - yres / 2) * Affine.scale(xres, yres)\n",
    "\n",
    "# Save first raster\n",
    "with rasterio.open(\n",
    "        \"../temp/math_raster_a.tif\",\n",
    "        mode=\"w\",\n",
    "        driver=\"GTiff\",\n",
    "        height=Z_a.shape[0],\n",
    "        width=Z_a.shape[1],\n",
    "        count=1,\n",
    "        dtype=Z_a.dtype,\n",
    "        crs=\"+proj=latlong\",\n",
    "        transform=transform,\n",
    ") as new_dataset:\n",
    "        new_dataset.write(Z_a, 1)\n",
    "\n",
    "# Save second raster\n",
    "with rasterio.open(\n",
    "        \"../temp/math_raster_b.tif\",\n",
    "        mode=\"w\",\n",
    "        driver=\"GTiff\",\n",
    "        height=Z_b.shape[0],\n",
    "        width=Z_b.shape[1],\n",
    "        count=1,\n",
    "        dtype=Z_b.dtype,\n",
    "        crs=\"+proj=latlong\",\n",
    "        transform=transform,\n",
    ") as new_dataset:\n",
    "        new_dataset.write(Z_b, 1)"
   ]
  },
  {
   "cell_type": "markdown",
   "id": "4e966633",
   "metadata": {},
   "source": [
    "Next, we'll view the raster values."
   ]
  },
  {
   "cell_type": "code",
   "execution_count": null,
   "id": "58901a1a",
   "metadata": {},
   "outputs": [],
   "source": [
    "# Open raster and plot\n",
    "raster_a = rasterio.open(\"../temp/math_raster_a.tif\").read(1)\n",
    "plt.imshow(raster_a, cmap = \"BrBG\")\n",
    "plt.title(\"Raster A\")\n",
    "plt.show()\n",
    "\n",
    "# View raster values\n",
    "print(raster_a)"
   ]
  },
  {
   "cell_type": "code",
   "execution_count": null,
   "id": "8a0cdc5e",
   "metadata": {},
   "outputs": [],
   "source": [
    "# Open raster and plot\n",
    "raster_b = rasterio.open(\"../temp/math_raster_b.tif\").read(1)\n",
    "plt.imshow(raster_b, cmap = \"BrBG\")\n",
    "plt.title(\"Raster B\")\n",
    "plt.show()\n",
    "\n",
    "# View raster values\n",
    "print(raster_b)"
   ]
  },
  {
   "cell_type": "markdown",
   "id": "e28dc31c",
   "metadata": {},
   "source": [
    "### Example band math operations\n",
    "\n",
    "We can get the difference between the two rasters."
   ]
  },
  {
   "cell_type": "code",
   "execution_count": null,
   "id": "e6baccba",
   "metadata": {},
   "outputs": [],
   "source": [
    "# Get difference\n",
    "difference_a_b = raster_a - raster_b\n",
    "\n",
    "# Plot raster\n",
    "plt.imshow(difference_a_b, cmap = \"BrBG\")\n",
    "plt.title(\"Difference between Raster A & Raster B\")\n",
    "plt.show()\n",
    "\n",
    "# Show raster values\n",
    "print(\"Raster values:\\n\", difference_a_b)"
   ]
  },
  {
   "cell_type": "markdown",
   "id": "05678888",
   "metadata": {},
   "source": [
    "We can multiply a raster by a constant."
   ]
  },
  {
   "cell_type": "code",
   "execution_count": null,
   "id": "cb196661",
   "metadata": {},
   "outputs": [],
   "source": [
    "# Get product\n",
    "product_a = raster_a * 2\n",
    "\n",
    "# Plot raster\n",
    "plt.imshow(product_a, cmap = \"BrBG\")\n",
    "plt.title(\"Product of Raster A and 2\")\n",
    "plt.show()\n",
    "\n",
    "# Show raster values\n",
    "print(\"Raster values:\\n\", product_a)"
   ]
  },
  {
   "cell_type": "markdown",
   "id": "1fadad32",
   "metadata": {},
   "source": [
    "### Band math with NoData values\n",
    "\n",
    "If a pixel has a value of `nan`, `None`, or `NoData` value, those pixels will automatically be ignored in any band math. The output raster will maintain the `nan`, `None`, or `NoData` value at that pixel location.\n",
    "\n",
    "Not all rasters, however, use those values to signify that a pixel has no value. Some rasters might use 0 or another number to indicate no value. In that case, we have to explicitly mark that pixel to be skipped."
   ]
  },
  {
   "cell_type": "code",
   "execution_count": null,
   "id": "bd45a443",
   "metadata": {},
   "outputs": [],
   "source": [
    "# Create a copy of first raster\n",
    "raster_0 = raster_a.copy()\n",
    "\n",
    "# Set a pixel value to 0 as an example, which will signify NoData\n",
    "# (top right pixel)\n",
    "raster_0[0, 5] = 0\n",
    "\n",
    "# Mask out any NoData (0) values\n",
    "raster_0_masked = np.ma.masked_array(raster_0, mask = (raster_0 == 0))\n",
    "\n",
    "# Get difference between masked raster and second raster\n",
    "difference_0_b = raster_0_masked - raster_b\n",
    "\n",
    "# Plot raster\n",
    "plt.imshow(difference_0_b, cmap = \"BrBG\")\n",
    "plt.title(\"Difference between Raster A with NoData values & Raster B\")\n",
    "plt.show()\n",
    "\n",
    "# Show raster values\n",
    "print(\"Raster values:\\n\", difference_0_b)"
   ]
  },
  {
   "cell_type": "markdown",
   "id": "205f9b6a",
   "metadata": {},
   "source": [
    "### Example: Calculating NDVI\n",
    "\n",
    "In the example below, we will read in a clipped Landsat 8, Collection 2 Level-2 image and use the band math concepts to calculate the normalized difference vegetation index (NDVI) for the image. As you may recall, NDVI is a spectral approach used to assess vegetation. The formula for NDVI is:\n",
    "\n",
    "$$\n",
    "  NDVI = \\frac{NIR - Red}{NIR + Red}\n",
    "$$\n",
    "\n",
    "where `NIR` is the near-infrared band and `Red` is the red band.\n",
    "\n",
    "High NDVI values (towards 1) reflect a higher density of green vegetation, and low values (towards -1) reflect a lower density."
   ]
  },
  {
   "cell_type": "code",
   "execution_count": null,
   "id": "5523ed9c",
   "metadata": {},
   "outputs": [],
   "source": [
    "# Open raster (Landsat 8, Collection 2 Level-2)\n",
    "# Band 1 - Blue, Band 2 - Green, Band 3 - Red, Band 4 - Near Infrared\n",
    "# Source: https://www.usgs.gov/centers/eros/science/usgs-eros-archive-landsat-archives-landsat-8-9-olitirs-collection-2-level-2\n",
    "with rasterio.open(\"../data/LC08_L2SP_016040_20210317_20210328_02_T1_clip.tif\", mode = \"r\", nodata = 0) as src:\n",
    "\n",
    "    # Get red band\n",
    "    band_red = src.read(3)\n",
    "\n",
    "    # Get NIR band\n",
    "    band_nir = src.read(4)\n",
    "\n",
    "    # Allow division by zero\n",
    "    np.seterr(divide = \"ignore\", invalid = \"ignore\")\n",
    "\n",
    "    # Calculate NDVI\n",
    "    ndvi = (band_nir.astype(float) - band_red.astype(float)) / (band_nir + band_red)\n",
    "\n",
    "# Set pixels whose values are outside the NDVI range (-1, 1) to NaN\n",
    "# Likely due to errors in the Landsat imagery\n",
    "ndvi[ndvi > 1] = np.nan\n",
    "ndvi[ndvi < -1] = np.nan\n",
    "\n",
    "# Plot raster\n",
    "plt.imshow(ndvi)\n",
    "plt.title(\"NDVI\")\n",
    "plt.show()\n",
    "\n",
    "# Show raster values\n",
    "print(\"Raster values:\\n\", ndvi)"
   ]
  },
  {
   "cell_type": "markdown",
   "id": "853ad911",
   "metadata": {},
   "source": [
    "## Band Math with GeoWombat\n",
    "\n",
    "For band math with `GeoWombat`, see the chapter on [Band Math & Vegetation Indices](f_rs_band_math.md)."
   ]
  }
 ],
 "metadata": {
  "jupytext": {
   "text_representation": {
    "extension": ".md",
    "format_name": "myst"
   }
  },
  "kernelspec": {
   "display_name": "Python 3",
   "language": "python",
   "name": "python3"
  },
  "myst": {
   "html_meta": {
    "description lang=en": "Learn how to perform mathematical operations on raster bands using rasterio.",
    "keywords": "spatial, python, rasterio, raster, band, math",
    "property=og:locale": "en_US"
   }
  },
  "source_map": [
   15,
   38,
   46,
   58,
   107,
   111,
   122,
   131,
   137,
   148,
   152,
   163,
   171,
   192,
   206,
   236
  ]
 },
 "nbformat": 4,
 "nbformat_minor": 5
}