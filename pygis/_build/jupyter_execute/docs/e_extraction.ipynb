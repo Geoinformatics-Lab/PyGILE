{
 "cells": [
  {
   "cell_type": "markdown",
   "id": "bb8a1e22",
   "metadata": {},
   "source": [
    "----------------\n",
    "\n",
    "```{admonition} Learning Objectives\n",
    "* Clip a vector feature using another vector feature\n",
    "* Select features by their attributes\n",
    "* Select features by their locations\n",
    "```\n",
    "```{admonition} Review\n",
    "* [Spatial Vector Data](c_vectors.md)\n",
    "* [Attributes & Indexing for Vector Data](e_attributes.md)\n",
    "* [Creating Spatial Vector Data](c_new_vectors.md)\n",
    "```\n",
    "----------------\n",
    "\n",
    "# Extracting Spatial Data\n",
    "\n",
    "Subsetting and extracting data is useful when we want to select or analyze a portion of the dataset based on a feature's location, attribute, or its spatial relationship to another dataset.\n",
    "\n",
    "In this chapter, we will explore three ways that data from a GeoDataFrame can be subsetted and extracted: clip, select location by attribute, and select by location.\n",
    "\n",
    "## Setup\n",
    "\n",
    "First, let's import the necessary modules (click the + below to show code cell)."
   ]
  },
  {
   "cell_type": "code",
   "execution_count": null,
   "id": "c3929b2f",
   "metadata": {
    "tags": [
     "hide-cell"
    ]
   },
   "outputs": [],
   "source": [
    "# Import modules\n",
    "import geopandas as gpd\n",
    "import matplotlib.pyplot as plt\n",
    "import pandas as pd\n",
    "from shapely.geometry import Polygon"
   ]
  },
  {
   "cell_type": "markdown",
   "id": "59deed78",
   "metadata": {},
   "source": [
    "We will utilize shapefiles of San Francisco Bay Area county boundaries and wells within the Bay Area and the surrounding 50 km. We will first load in the data and reproject the data (click the + below to show code cell).\n",
    "\n",
    "```{important} All the data must have the same coordinate system in order for extraction to work correctly.\n",
    "```"
   ]
  },
  {
   "cell_type": "code",
   "execution_count": null,
   "id": "a9cb9771",
   "metadata": {
    "tags": [
     "hide-cell"
    ]
   },
   "outputs": [],
   "source": [
    "# Load data\n",
    "\n",
    "# County boundaries\n",
    "# Source: https://opendata.mtc.ca.gov/datasets/san-francisco-bay-region-counties-clipped?geometry=-125.590%2C37.123%2C-119.152%2C38.640\n",
    "counties = gpd.read_file(\"../_static/e_vector_shapefiles/sf_bay_counties/sf_bay_counties.shp\")\n",
    "\n",
    "# Well locations\n",
    "# Source: https://gis.data.ca.gov/datasets/3a3e681b894644a9a95f9815aeeeb57f_0?geometry=-123.143%2C36.405%2C-119.230%2C37.175\n",
    "# Modified by author so that only the well locations within the counties and the surrounding 50 km were kept\n",
    "wells = gpd.read_file(\"../_static/e_vector_shapefiles/sf_bay_wells_50km/sf_bay_wells_50km.shp\")\n",
    "\n",
    "# Reproject data to NAD83(HARN) / California Zone 3\n",
    "# https://spatialreference.org/ref/epsg/2768/\n",
    "proj = 2768\n",
    "counties = counties.to_crs(proj)\n",
    "wells = wells.to_crs(proj)"
   ]
  },
  {
   "cell_type": "markdown",
   "id": "4d3d0ddc",
   "metadata": {},
   "source": [
    "We will also create a rectangle over a part of the Bay Area. We have identified coordinates to use for this rectangle, but you can also use [bbox finder](http://bboxfinder.com/) to generate custom bounding boxes and obtain their coordinates (click the + below to show code cell)."
   ]
  },
  {
   "cell_type": "code",
   "execution_count": null,
   "id": "751fed9f",
   "metadata": {
    "tags": [
     "hide-cell"
    ]
   },
   "outputs": [],
   "source": [
    "# Create list of coordinate pairs\n",
    "coordinates = [[1790787, 736108], [1929652, 736108], [1929652, 598414], [1790787, 598414]]\n",
    "\n",
    "# Create a Shapely polygon from the coordinate-tuple list\n",
    "poly_shapely = Polygon(coordinates)\n",
    "\n",
    "# Create a dictionary with needed attributes and required geometry column\n",
    "attributes_df = {'Attribute': ['name1'], 'geometry': poly_shapely}\n",
    "\n",
    "# Convert shapely object to a GeoDataFrame\n",
    "poly = gpd.GeoDataFrame(attributes_df, geometry = 'geometry', crs = \"EPSG:2768\")"
   ]
  },
  {
   "cell_type": "markdown",
   "id": "301b8567",
   "metadata": {},
   "source": [
    "We'll define some functions to make displaying and mapping our results a bit easier (click the + below to show code cell)."
   ]
  },
  {
   "cell_type": "code",
   "execution_count": null,
   "id": "3c98c085",
   "metadata": {
    "tags": [
     "hide-cell"
    ]
   },
   "outputs": [],
   "source": [
    "def display_table(table_name, attribute_table):\n",
    "    '''Display the first and last five rows of attribute table.'''\n",
    "\n",
    "    # Print title\n",
    "    print(\"Attribute Table: {}\".format(table_name))\n",
    "\n",
    "    # Print number of rows and columns\n",
    "    print(\"\\nTable shape (rows, columns): {}\".format(attribute_table.shape))\n",
    "\n",
    "    # Display first two rows of attribute table\n",
    "    print(\"\\nFirst two rows:\")\n",
    "    display(attribute_table.head(2))\n",
    "\n",
    "    # Display last two rows of attribute table\n",
    "    print(\"\\nLast two rows:\")\n",
    "    display(attribute_table.tail(2))\n",
    "\n",
    "\n",
    "def plot_df(result_name, result_df, result_geom_type, area = None):\n",
    "    '''Plot the result on a map and add the outlines of the original shapefiles.'''\n",
    "\n",
    "    # Create subplots\n",
    "    fig, ax = plt.subplots(1, 1, figsize = (10, 10))\n",
    "\n",
    "    # Plot data depending on vector type\n",
    "    # For points\n",
    "    if result_geom_type == \"point\":\n",
    "\n",
    "        # Plot data\n",
    "        counties.plot(ax = ax, color = 'none', edgecolor = 'dimgray')\n",
    "        wells.plot(ax = ax, marker = 'o', color = 'dimgray', markersize = 3)\n",
    "        result_df.plot(ax = ax, marker = 'o', color = 'dodgerblue', markersize = 3)\n",
    "\n",
    "    # For polygons\n",
    "    else:\n",
    "\n",
    "        # Plot overlay data\n",
    "        result_df.plot(ax = ax, cmap = 'Set2', edgecolor = 'black')\n",
    "\n",
    "        # Plot outlines of original shapefiles\n",
    "        counties.plot(ax = ax, color = 'none', edgecolor = 'dimgray')\n",
    "\n",
    "    # Add additional outlined boundary if specified\n",
    "    if area is not None:\n",
    "\n",
    "        # Plot data\n",
    "        area.plot(ax = ax, color = 'none', edgecolor = 'lightseagreen', linewidth = 3)\n",
    "\n",
    "    # Else, pass\n",
    "    else:\n",
    "        pass\n",
    "\n",
    "    # Stylize plots\n",
    "    plt.style.use('bmh')\n",
    "\n",
    "    # Set title\n",
    "    ax.set_title(result_name, fontdict = {'fontsize': '15', 'fontweight' : '3'})"
   ]
  },
  {
   "cell_type": "markdown",
   "id": "b4eba797",
   "metadata": {},
   "source": [
    "Let's take a look at what our input data looks like."
   ]
  },
  {
   "cell_type": "code",
   "execution_count": null,
   "id": "f2e73a55",
   "metadata": {},
   "outputs": [],
   "source": [
    "# Create subplots\n",
    "fig, ax = plt.subplots(1, 1, figsize = (10, 10))\n",
    "\n",
    "# Plot data\n",
    "counties.plot(ax = ax, color = 'bisque', edgecolor = 'dimgray')\n",
    "wells.plot(ax = ax, marker = 'o', color = 'dodgerblue', markersize = 3)\n",
    "poly.plot(ax = ax, color = 'aquamarine', edgecolor = 'lightseagreen', alpha = 0.55)\n",
    "\n",
    "# Stylize plots\n",
    "plt.style.use('bmh')\n",
    "\n",
    "# Set title\n",
    "ax.set_title('San Francisco Bay Area', fontdict = {'fontsize': '15', 'fontweight' : '3'})"
   ]
  },
  {
   "cell_type": "markdown",
   "id": "f9b19c65",
   "metadata": {},
   "source": [
    "## Clip Spatial Polygons\n",
    "\n",
    "Clip extracts and keeps only the geometries of a vector feature that are within extent of another vector feature (think of it like a cookie-cutter or mask). We can use  `clip()` in `geopandas`, with the first parameter being the vector that will be clipped and the second parameter being the vector that will define the extent of the clip. *All attributes for the resulting clipped vector will be kept.* [^gpd_clip]\n",
    "\n",
    "```{note}\n",
    "This function is only available in the more recent versions of `geopandas`.\n",
    "```\n",
    "\n",
    "We will first clip the Bay Area counties polygon to our created rectangle polygon."
   ]
  },
  {
   "cell_type": "code",
   "execution_count": null,
   "id": "08d3247e",
   "metadata": {},
   "outputs": [],
   "source": [
    "# Clip data\n",
    "clip_counties = gpd.clip(counties, poly)\n",
    "\n",
    "# Display attribute table\n",
    "display(clip_counties)\n",
    "\n",
    "# Plot clip\n",
    "plot_df(result_name = \"San Francisco Bay Area Counties\\nClip\", result_df = clip_counties, result_geom_type = \"polygon\", area = poly)"
   ]
  },
  {
   "cell_type": "markdown",
   "id": "fbc6b31f",
   "metadata": {},
   "source": [
    "We can clip any vector type. Next, we will clip the wells point data to our created rectangle polygon."
   ]
  },
  {
   "cell_type": "code",
   "execution_count": null,
   "id": "14501a74",
   "metadata": {},
   "outputs": [],
   "source": [
    "# Clip data\n",
    "clip_wells = gpd.clip(wells, poly)\n",
    "\n",
    "# Display attribute table\n",
    "display(clip_wells)\n",
    "\n",
    "# Plot clip\n",
    "plot_df(result_name = \"San Francisco Bay Area Wells\\nClip\", result_df = clip_wells, result_geom_type = \"point\", area = poly)"
   ]
  },
  {
   "cell_type": "markdown",
   "id": "6aa13b84",
   "metadata": {},
   "source": [
    "## Select Location by Attributes\n",
    "\n",
    "Selecting by attribute selects only the features in a dataset whose attribute values match the specified criteria. `geopandas` uses the indexing and selection methods  in `pandas`, so data in a GeoDataFrame can be selected and queried in the same way a `pandas` dataframe can. [^gpd_select], [^pd_select], [^pd_subset]\n",
    "\n",
    "We will use use different criteria to subset the wells dataset."
   ]
  },
  {
   "cell_type": "code",
   "execution_count": null,
   "id": "7da485a2",
   "metadata": {},
   "outputs": [],
   "source": [
    "# Display attribute table\n",
    "display(wells.head(2))"
   ]
  },
  {
   "cell_type": "markdown",
   "id": "28a13bfb",
   "metadata": {},
   "source": [
    "The criteria can use a variety of operators, including comparison and logical operators."
   ]
  },
  {
   "cell_type": "code",
   "execution_count": null,
   "id": "ee28ef03",
   "metadata": {},
   "outputs": [],
   "source": [
    "# Select wells that are public supply\n",
    "wells_public = wells[(wells[\"WELL_USE\"] == \"Public Supply\")]\n",
    "\n",
    "# Display first two and last two rows of attribute table\n",
    "display_table(table_name = \"San Francisco Bay Area Wells - Public Supply\", attribute_table = wells_public)"
   ]
  },
  {
   "cell_type": "code",
   "execution_count": null,
   "id": "991ecf1a",
   "metadata": {},
   "outputs": [],
   "source": [
    "# Select wells that are public supply and have a depth greater than 50 ft\n",
    "wells_public_deep = wells[(wells[\"WELL_USE\"] == \"Public Supply\") & (wells[\"WELL_DEPTH\"] > 50)]\n",
    "\n",
    "# Display first two and last two rows of attribute table\n",
    "display_table(table_name = \"San Francisco Bay Area Wells - Public Supply with Depth Greater than 50 ft\", attribute_table = wells_public_deep)"
   ]
  },
  {
   "cell_type": "code",
   "execution_count": null,
   "id": "e565e2dd",
   "metadata": {},
   "outputs": [],
   "source": [
    "# Select wells that are public supply and have a depth greater than 50 ft OR are residential\n",
    "wells_public_deep_residential = wells[((wells[\"WELL_USE\"] == \"Public Supply\") & (wells[\"WELL_DEPTH\"] > 50)) | (wells[\"WELL_USE\"] == \"Residential\")]\n",
    "\n",
    "# Display first two and last two rows of attribute table\n",
    "display_table(table_name = \"San Francisco Bay Area Wells - Public Supply with Depth Greater than 50 ft or Residential\", attribute_table = wells_public_deep_residential)"
   ]
  },
  {
   "cell_type": "markdown",
   "id": "e00ec759",
   "metadata": {},
   "source": [
    "## Select by Location\n",
    "\n",
    "Selecting by location selects features based on its relative spatial relationship with another dataset. In other words, features are selected based on their location relative to the location of another dataset.\n",
    "\n",
    "For example:\n",
    "* to know how many wells there are in Santa Clara County, we could select all the wells that fall within Santa Clara County boundaries (which we do in one of the examples below)\n",
    "* to know what rivers flow through Santa Clara County, we could select all the river polylines that intersect with Santa Clara County boundaries\n",
    "\n",
    "For more information on selecting by location and spatial relationships, check out this [ArcGIS documentation](https://desktop.arcgis.com/en/arcmap/10.3/map/working-with-layers/using-select-by-location.htm).\n",
    "\n",
    "There are multiple spatial relationships available in `geopandas`: [^gpd_binary]\n",
    "\n",
    "| Spatial Relationship | Function(s) | Description |\n",
    "| :------------ | ------------------ | ----------------------------------: |\n",
    "| contains | `contains()` | geometry encompasses the other geometry’s boundary and interior without any boundaries touching |\n",
    "| covers | `covers()` | all of the geometry's points are to the exterior of the other geometry's points |\n",
    "| covered by | `covered_by()` | all of the geometry's points are to the interior of the other geometry's points |\n",
    "| crosses | `crosses()` | geometry's interior intersects that of the other geometry, provided that the geometry does not contain the other and the dimension of the intersection is less than the dimension of either geometry |\n",
    "| disjoint | `disjoint()` | geometry's boundary and interior do not intersect the boundary and interior of the other geometry |\n",
    "| equal geometry | `geom_equals()`, `geom_almost_equals()`, `geom_equals_exact()` | geometry's boundary, interior, and exterior matches (within a range) those of the other |\n",
    "| intersects | `intersects()` | geometry's boundary or interior touches or crosses any part of the other geometry |\n",
    "| overlaps | `overlaps()` | geometry shares at least one point, but not all points, with the other geometry, provided that the geometries and the intersection of their interiors all have the same dimensions |\n",
    "| touches | `touches()` | geometry shares at least one point with the other geometry, provided that no part of the geometry's interior intersects with the other geometry |\n",
    "| within | `within()` | geometry is enclosed in the other geometry (geometry's boundary and interior intersects with the other geometry's interior only) |\n",
    "\n",
    "```{note}\n",
    "The functions for these spatial relationships will generally output a `pandas` series with Boolean values (`True` or `False`) whose indexing corresponds with the input dataset (from where we want to subset the data). We can use these Boolean values to subset the dataset (where only the rows that have a `True` output will be retained).\n",
    "```\n",
    "\n",
    "### Method 1 - Shapely vector\n",
    "\n",
    "These functions can be used to select features that have the specified spatial relationship with a single Shapely vector."
   ]
  },
  {
   "cell_type": "code",
   "execution_count": null,
   "id": "5bd1d5f3",
   "metadata": {},
   "outputs": [],
   "source": [
    "# Select wells that fall within Shapely rectangle\n",
    "wells_within_rect_shapely = wells[wells.within(poly_shapely)]\n",
    "\n",
    "# Display first two and last two rows of attribute table\n",
    "display_table(table_name = \"San Francisco Bay Area Wells within a User-Defined Rectangle\", attribute_table = wells_within_rect_shapely)\n",
    "\n",
    "# Plot selection\n",
    "plot_df(result_name = \"San Francisco Bay Area Wells within a User-Defined Rectangle\", result_df = wells_within_rect_shapely, result_geom_type = \"point\", area = poly)"
   ]
  },
  {
   "cell_type": "markdown",
   "id": "39743106",
   "metadata": {},
   "source": [
    "### Method 2 - GeoDataFrame\n",
    "\n",
    "If we're trying to select features that have a specified spatial relationship with another `geopandas` object, it gets a little tricky. This is because the `geopandas` spatial relationship functions verify the spatial relationship either row by row or index by index. In other words, the first row in the first dataset will be compared with the corresponding row or index in the second dataset, the second row in the first dataset will be compared with the corresponding row or index in the second dataset, and so on. [^gpd_within], [^gpd_data]\n",
    "\n",
    "As a result, the number of rows need to correspond or the indices numbers need to match between the two datasets--or else we'll get a warning and the output will be empty.\n",
    "\n",
    "Because each record in a GeoDataFrame has a geometry column that stores that record's geometry as a `shapely` object, we can call this object if we want to check a bunch of features against one extent (with one geometry). [^gpd_within], [^gpd_data]"
   ]
  },
  {
   "cell_type": "code",
   "execution_count": null,
   "id": "6cab35ea",
   "metadata": {},
   "outputs": [],
   "source": [
    "# Select the Santa Clara County boundary\n",
    "sc_county = counties[counties[\"coname\"] == \"Santa Clara County\"]\n",
    "\n",
    "# Subset the GeoDataFrame by checking which wells are within Santa Clara County's Shapely object\n",
    "wells_within_sc_shapely = wells[wells.within(sc_county.geometry.values[0])]\n",
    "\n",
    "# Display first two and last two rows of attribute table\n",
    "display_table(table_name = \"San Francisco Bay Area Wells within Santa Clara County\", attribute_table = wells_within_sc_shapely)\n",
    "\n",
    "# Plot selection\n",
    "plot_df(result_name = \"San Francisco Bay Area Wells within Santa Clara County\", result_df = wells_within_sc_shapely, result_geom_type = \"point\", area = sc_county)"
   ]
  },
  {
   "cell_type": "markdown",
   "id": "def8a3b8",
   "metadata": {},
   "source": [
    "```{tip}\n",
    "If we are interested in wells that fall within two or more counties (i.e., we have multiple records that will be used for selection), we can enclose the above code in a `for` loop.\n",
    "```\n",
    "\n",
    "[^gpd_clip]: [Clip Vector Data with GeoPandas, GeoPandas](https://geopandas.org/gallery/plot_clip.html)\n",
    "[^gpd_select]: [Indexing and Selecting Data, GeoPandas](https://geopandas.org/docs/user_guide/indexing.html)\n",
    "[^pd_select]: [Indexing and selecting data, pandas](https://pandas.pydata.org/pandas-docs/stable/user_guide/indexing.html)\n",
    "[^pd_subset]: [How do I select a subset of a DataFrame?, pandas](https://pandas.pydata.org/pandas-docs/stable/getting_started/intro_tutorials/03_subset_data.html)\n",
    "[^gpd_binary]: [GeoSeries - Binary Predicates, GeoPandas](https://geopandas.org/docs/reference/geoseries.html#binary-predicates)\n",
    "[^gpd_within]: [geopandas.GeoSeries.within, GeoPandas](https://geopandas.org/docs/reference/api/geopandas.GeoSeries.within.html)\n",
    "[^gpd_data]: [Data Structures, GeoPandas](https://geopandas.org/docs/user_guide/data_structures.html)"
   ]
  }
 ],
 "metadata": {
  "jupytext": {
   "text_representation": {
    "extension": ".md",
    "format_name": "myst"
   }
  },
  "kernelspec": {
   "display_name": "Python 3",
   "language": "python",
   "name": "python3"
  },
  "myst": {
   "html_meta": {
    "description lang=en": "Learn how to subset and extract data from a GeoDataFrame through clipping, selecting by attribute, and selecting by location",
    "keywords": "spatial, attribute data, subset, extract, selection, vector, shapefile",
    "property=og:locale": "en_US"
   }
  },
  "source_map": [
   15,
   41,
   49,
   56,
   75,
   79,
   93,
   97,
   157,
   161,
   175,
   187,
   196,
   200,
   209,
   217,
   220,
   224,
   232,
   240,
   246,
   281,
   290,
   300,
   312
  ]
 },
 "nbformat": 4,
 "nbformat_minor": 5
}