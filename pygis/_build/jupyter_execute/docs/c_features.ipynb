{
 "cells": [
  {
   "cell_type": "markdown",
   "id": "b88675ff",
   "metadata": {},
   "source": [
    "(c_features)=\n",
    "\n",
    "---------------\n",
    "```{admonition} Learning Objectives\n",
    "* Differentiate between raster and vector data.\n",
    "* Understand and create dictionary data structures to form the basis of a GeoDataFrame.\n",
    "* Identify data measurement level categories.\n",
    "```\n",
    "--------------\n",
    "\n",
    "\n",
    "# Spatial Data\n",
    "\n",
    "## Vector vs. Raster Data\n",
    "\n",
    "To work in a GIS environment, real world observations (objects or events that can be recorded in 2D or 3D space) need to be reduced to spatial entities. These spatial entities can be represented in a GIS as a **vector data model** or a **raster data model**. \n",
    "\n",
    "```{figure} ../_static/img/vector_vs_raster.jpg\n",
    ":name: raster_vs_vector\n",
    ":alt: Vector and raster representations of a river feature.\n",
    " Vector and raster representations of a river feature.\n",
    "```\n",
    "\n",
    "### Vector Data\n",
    "\n",
    "Vector features can be decomposed into three different geometric primitives: **points**, **polylines** and **polygons**. \n",
    "\n",
    "For each of these examples, we'll be using a Python dictionary to form the basis of a GeoDataFrame. A dictionary in Python is a data structure that allows you to store data as pairs of keys and values. For more information, you can refer to the [Python documentation on dictionaries](https://docs.python.org/3/tutorial/datastructures.html#dictionaries). \n",
    "\n",
    "#### Point\n",
    " \n",
    "In this example, we're using the `geopandas` and `shapely` libraries to create a GeoDataFrame that contains point data. Try copying and running this code snippet below to demonstrate."
   ]
  },
  {
   "cell_type": "code",
   "execution_count": null,
   "id": "f83717ed",
   "metadata": {},
   "outputs": [],
   "source": [
    "import geopandas as gpd\n",
    "import matplotlib.pyplot as plt\n",
    "from shapely.geometry import Point\n",
    "\n",
    "d = {'name': ['Washington\\n(38.90, -77.03)', 'Baltimore\\n(39.29, -76.61)','Fredrick\\n(39.41,-77.40)'], \n",
    "     'geometry': [Point(-77.036873,38.907192), Point(-76.612190,39.290386,), Point(-77.408456,39.412006)]}\n",
    "\n",
    "gdf = gpd.GeoDataFrame(d, crs=\"EPSG:4326\")\n",
    "print(gdf)"
   ]
  },
  {
   "cell_type": "markdown",
   "id": "5084e472",
   "metadata": {},
   "source": [
    "A [point](https://shapely.readthedocs.io/en/stable/reference/shapely.Point.html) is composed of one coordinate pair representing a specific location in a coordinate system. Points are the most basic geometric primitives having no length or area. By definition a point can't be “seen” since it has no area; but this is not practical if such primitives are to be mapped. So points on a map are represented using *symbols* that have both area and shape (e.g. circle, square, plus signs).\n",
    "\n",
    "In the following code snippet, we're using `matplotlib` to plot our [GeoDataFrame](https://geopandas.org/en/stable/docs/reference/api/geopandas.GeoDataFrame.html#geopandas.GeoDataFrame). Try copying and running the code to see the visual representation."
   ]
  },
  {
   "cell_type": "code",
   "execution_count": null,
   "id": "5585ae4f",
   "metadata": {
    "class": "dropdown"
   },
   "outputs": [],
   "source": [
    "plt.style.use('bmh') # better for plotting geometries vs general plots.\n",
    "\n",
    "fig, ax = plt.subplots(figsize=(12, 6))\n",
    "gdf.plot(ax=ax)\n",
    "plt.ylim([38.8, 39.6])\n",
    "plt.xlim([-77.5, -76.2])\n",
    "\n",
    "for x, y, label in zip(gdf.geometry.x, gdf.geometry.y, gdf.name):\n",
    "    ax.annotate(label, xy=(x, y), xytext=(3, 3), textcoords=\"offset points\")\n",
    "plt.show()"
   ]
  },
  {
   "cell_type": "markdown",
   "id": "b8bb869c",
   "metadata": {},
   "source": [
    "We seem capable of interpreting such symbols as points, but there may be instances when such interpretation may be ambiguous (e.g. is a round symbol delineating the area of a round feature on the ground such as a large oil storage tank or is it representing the point location of that tank?).\n",
    "\n",
    "#### Line String\n",
    "\n",
    "In the following example, we're creating a [LineString](https://shapely.readthedocs.io/en/stable/reference/shapely.LineString.html), which is composed of a sequence of two or more coordinate pairs called vertices. A vertex is defined by coordinate pairs, just like a point, but what differentiates a vertex from a point is its explicitly defined relationship with neighboring vertices. A vertex is connected to at least one other vertex.\n",
    "\n",
    "Try copying and running this code snippet below to demonstrate creating a polyline using the Python libraries shapely and geopandas. This code also uses matplotlib's pyplot module to plot the data."
   ]
  },
  {
   "cell_type": "code",
   "execution_count": null,
   "id": "d75faad3",
   "metadata": {},
   "outputs": [],
   "source": [
    "# Import required modules\n",
    "from shapely.geometry import LineString, Point\n",
    "import geopandas as gpd\n",
    "import matplotlib.pyplot as plt\n",
    "\n",
    "# Define a dictionary with names and geometry (LineString)\n",
    "d = {'name': ['Washington\\n(38.90, -77.03)' ], \n",
    "     'geometry': [LineString([Point(-77.036873,38.907192), Point(-76.612190,39.290386,), Point(-77.408456,39.412006)])]}\n",
    "\n",
    "# Create a GeoDataFrame using the dictionary\n",
    "gdf = gpd.GeoDataFrame(d, crs=\"EPSG:4326\")\n",
    "\n",
    "# Plot the GeoDataFrame\n",
    "fig, ax = plt.subplots(figsize=(12, 6))\n",
    "gdf.plot(ax=ax)\n",
    "plt.show()"
   ]
  },
  {
   "cell_type": "markdown",
   "id": "5560955b",
   "metadata": {},
   "source": [
    " \n",
    "Like a point, a true line can't be seen since it has no area. And like a point, a line is symbolized using shapes that have a color, width and style (e.g. solid, dashed, dotted, etc...). Roads and rivers are commonly stored as polylines in a GIS.\n",
    "\n",
    "#### Polygon\n",
    "\n",
    "A [polygon](https://shapely.readthedocs.io/en/stable/reference/shapely.Polygon.html), in geographic information systems (GIS), is an area defined by three or more line segments, each with a starting and ending pair of coordinates that match. The terms lattice or area might be used interchangeably with 'polygon'. A polygon's defining features include its length (i.e., the perimeter), its area, and the concept of an interior and exterior. Specifically in GIS, the enclosed area of a polygon is explicitly defined.\n",
    "\n",
    "If an enclosed area is not defined, you're dealing with a polyline feature rather than a polygon. To better understand this, consider a triangle formed by three connected lines. These could either represent three connected road segments, illustrating a polyline feature, or the grassy region enclosed by these roads. In the latter case, an 'interior' area is implied, and so it would be a polygon.\n",
    "\n",
    "In the following example, we use the libraries Shapely and GeoPandas to create a polygon. It is formed by three line segments with matching start and end coordinates."
   ]
  },
  {
   "cell_type": "code",
   "execution_count": null,
   "id": "3ea846cf",
   "metadata": {},
   "outputs": [],
   "source": [
    "from shapely.geometry import Polygon\n",
    "\n",
    "d = {'name': ['Washington\\n(38.90, -77.03)' ], \n",
    "     'geometry': [Polygon([Point(-77.036873,38.907192), Point(-76.612190,39.290386,), Point(-77.408456,39.412006)])]}\n",
    "gdf = gpd.GeoDataFrame(d, crs=\"EPSG:4326\")\n",
    "fig, ax = plt.subplots(figsize=(12, 6))\n",
    "gdf.plot(ax=ax)\n",
    "plt.show()"
   ]
  },
  {
   "cell_type": "markdown",
   "id": "eab7c96b",
   "metadata": {},
   "source": [
    "(c_raster_data_intro)=\n",
    "\n",
    "### Raster Data\n",
    "Raster data models use a grid of cells, also known as pixels, to represent real-world objects. These data models are often used to represent and manage a variety of entities such as imagery, surface temperatures, digital elevation models, and more.\n",
    "\n",
    "You can think of a raster as a specific instance of an area object, divided into a regular grid of cells. A more fitting analogy, perhaps, would be to compare rasters to a regularly spaced [array](https://numpy.org/doc/stable/reference/generated/numpy.array.html) of marked points, as rasters are usually stored as an array of values in most GIS environments. Each cell within this array is defined by a unique pair of coordinates.\n",
    "\n",
    "A crucial feature of raster data models is that each cell or pixel has an associated value. This stands in contrast to vector models where the geometric primitive may or may not have an associated value.\n",
    "\n",
    "The following Python code generates a 2D array of random integers and displays it as an image using matplotlib:"
   ]
  },
  {
   "cell_type": "code",
   "execution_count": null,
   "id": "fc5d8ae7",
   "metadata": {},
   "outputs": [],
   "source": [
    "import numpy as np\n",
    "\n",
    "X=np.random.randint(256, size=(10, 10))\n",
    "\n",
    "fig = plt.figure(figsize=(8,6))\n",
    "plt.imshow(X)\n",
    "plt.title(\"Plot 2D array\")\n",
    "plt.show()"
   ]
  },
  {
   "cell_type": "markdown",
   "id": "f3662389",
   "metadata": {},
   "source": [
    "For a more practical example, we can use the library rasterio to handle geospatial raster data. Rasterio reads and writes geospatial raster datasets, making it an essential tool for raster analysis. The following code reads a raster dataset and then plots it:"
   ]
  },
  {
   "cell_type": "code",
   "execution_count": null,
   "id": "8e455c46",
   "metadata": {},
   "outputs": [],
   "source": [
    "import rasterio\n",
    "from rasterio.plot import show\n",
    "import matplotlib.pyplot as plt\n",
    "\n",
    "# Open a web location with a demo raster dataset\n",
    "url = 'https://github.com/mapbox/rasterio/raw/master/tests/data/RGB.byte.tif'\n",
    "with rasterio.open(url) as src:\n",
    "    fig, ax = plt.subplots(figsize=(10,10))\n",
    "    show(src.read(), ax=ax, transform=src.transform)\n",
    "    plt.show()\n"
   ]
  },
  {
   "cell_type": "markdown",
   "id": "0131d20e",
   "metadata": {},
   "source": [
    "This code opens a connection to the demo raster dataset's URL, reads it into a Rasterio Dataset object, and then plots it. The dataset is an RGB GeoTIFF, which is a common format for geospatial raster data. It's important to use a context manager (`with` statement) when opening files with Rasterio to ensure they're properly closed after use.\n",
    "\n",
    "### Object vs. Field\n",
    "\n",
    "The conventional raster/vector representation of our world has primarily been shaped by software and data storage contexts. However, this approach may not always offer meaningful insights when analyzing patterns, as it can sometimes obscure crucial characteristics of the subject under study. A more illuminating approach can be to consider object versus field perspectives, even though they may appear more abstract at first glance.\n",
    "\n",
    "#### Object View\n",
    "\n",
    "An object perspective perceives entities as discrete objects, which do not necessarily occur at every location within a study area. For instance, point locations of cities or polygonal representations of urban areas (which may be non-contiguous) serve as examples of an object view. In this perspective, individual items or regions are treated as unique entities.\n",
    "\n",
    "Objects are typically stored as vector data - points, lines, polygons. \n",
    "\n",
    "#### Field View\n",
    "\n",
    "In contrast, a field perspective treats entities as a scalar field—a mathematical concept where a scalar represents a measurable quantity at every location within the study region. Surface elevation and temperature are common examples of scalar fields, as they reflect a property that can be measured at any point.\n",
    "\n",
    "For instance, consider the presence or absence of a building. This can be represented as a binary scalar field: a value of 0 for locations without buildings and a value of 1 for locations with one or more buildings. Although it may seem counterintuitive to view buildings as a field—especially given the definition of the object view—buildings can actually be represented from both perspectives. The choice between an object or field view ultimately depends on the context of the analysis. If the focus is on studying the distribution of buildings across an area, an object view is suitable. However, if the aim is to identify all locations without buildings, a binary field perspective becomes more relevant.\n",
    "\n",
    "\n",
    "Fields are typically stored as raster data. \n",
    "\n",
    "### Scale\n",
    "The method for representing real-world entities in a GIS is often significantly influenced by the **scale** of the analysis. In a GIS context, scale refers to the ratio of a distance on the map to the corresponding distance in the real world. Therefore, a **large-scale** map indicates a large ratio and typically covers a small geographic extent. This definition might seem counterintuitive because, in everyday language, 'large scale' is often interpreted as referring to a broad scope or extensive area.\n",
    "\n",
    "The two maps below illustrate this concept by representing the same area—Boston—but at different scales. When the scale is small (e.g., 1:10,000,000), representing Boston and other cities as points can be an effective approach. Conversely, when the scale is large (e.g., 1:34,000), it might be more suitable to represent Boston as a polygon. Furthermore, at this larger scale, roads might be better depicted as polygons rather than polylines.\n",
    "\n",
    "```{figure} ../_static/img/Boston_small_scale.jpg\n",
    ":name: Boston small scale\n",
    ":alt: Small scale map of Boston\n",
    "\n",
    "Map of the Boston area at a 1:10,000,000 scale. In geographical terms, this is considered a small scale, although in common parlance, the extensive area it covers would often be referred to as 'large scale.'\n",
    "```\n",
    "\n",
    "```{figure} ../_static/img/Boston_large_scale.jpg\n",
    ":name: Boston large scale\n",
    ":alt: Large scale map of Boston\n",
    "\n",
    "Map of the Boston area at a 1:34,000 scale. In geographical terms, this is considered a large scale, although in common parlance, the limited area it covers would often be referred to as 'small scale.'\n",
    "```\n",
    " \n",
    "### Attribute Tables\n",
    "\n",
    "In a Geographic Information System (GIS), non-spatial data linked to a spatial feature are known as **attributes**. A spatial feature on a GIS map corresponds to a record in the attribute table, connected by a unique numerical feature identifier (FID). Every feature in a layer possesses an identifier. Understanding the one-to-one or many-to-one relationship between the feature and its attribute record is crucial. Due to this linkage, many GIS software allow you to click on a map feature and display its associated attributes from the table.\n",
    "\n",
    "Raster data can also contain attributes, but only if the pixels are represented by a unique set of integer values. Raster datasets with attribute tables typically have cell values that define a category or membership. However, it's important to note that not all GIS raster data formats can store attribute information; in fact, many raster datasets used in GIS work may not have attribute tables.\n",
    "\n",
    "#### Measurement Levels\n",
    "\n",
    "Attributes can be categorized into four **measurement levels**:\n",
    "\n",
    "* **Nominal** data are non-numeric and have no implied order or size (e.g., types of roads like paved and unpaved). \n",
    "\n",
    "* **Ordinal** data have an inherent order (e.g., rank-based scores), but the magnitude of the difference is not quantifiable as they lack a linear scale.\n",
    "\n",
    "* **Interval** data are numeric with a linear scale but lack a true zero. Thus, they can't measure relative magnitudes. For instance, you can't say that 60°F is twice as warm as 30°F because these temperatures correspond to different values in Celsius.\n",
    "\n",
    "* **Ratio** scale data, like interval data, also have a linear scale but with a true zero. This makes them suitable for representing relative magnitudes (e.g., monetary values like $1, $20, $100).\n",
    "\n",
    "### Data Type\n",
    "\n",
    "Attributes can also be categorized by their **data type**. ArcGIS supports several data types, including **integer, float, double, and text**. The type of data and its measurement level should inform its storage format in a GIS environment. The following table outlines common data types supported by most GIS applications:\n",
    "\n",
    "| Type | Stored values | Note |\n",
    "| ----- | ------------------------------------------ | ----- |\n",
    "| Short integer | -32,768 to 32,768 | Whole numbers |\n",
    "| Long integer | -2,147,483,648 to 2,147,483,648 | Whole numbers |\n",
    "| Float | -3.4 * E-38 to 1.2 E38 | Real numbers |\n",
    "| Double | -2.2 * E-308 to 1.8 * E308 | Real numbers |\n",
    "| Text | Up to 64,000 characters | Letters and words |\n",
    "\n",
    "While it's possible to store whole numbers as a float or double, doing so increases storage space, which can impact performance for large datasets. Furthermore, storing a float as an integer could lead to significant data loss, as the system would round off decimal numbers to the nearest whole number. For example, the float values 0.2, 0.01, 0.34, 0.1, and 0.876 would be converted to 0, 0, 0, 0, and 1 as integers."
   ]
  }
 ],
 "metadata": {
  "jupytext": {
   "text_representation": {
    "extension": ".md",
    "format_name": "myst"
   }
  },
  "kernelspec": {
   "display_name": "Python 3",
   "language": "python",
   "name": "python3"
  },
  "myst": {
   "html_meta": {
    "description lang=en": "Learn the difference between raster and vector data, manually create spatial data, and data measurement issues",
    "description lang=es": "Conozca la diferencia entre datos ráster y vectoriales, cree manualmente datos geoespaciales y problemas de medición de datos",
    "description lang=fr": "Découvrez la différence entre les données raster et vectorielles, créez manuellement des données géospatiales et les problèmes de mesure des données",
    "keywords": "points, lines, polygons,raster, spatial, attribute table",
    "property=og:locale": "en_US"
   }
  },
  "source_map": [
   17,
   52,
   62,
   68,
   80,
   90,
   107,
   119,
   128,
   141,
   150,
   154,
   166
  ]
 },
 "nbformat": 4,
 "nbformat_minor": 5
}