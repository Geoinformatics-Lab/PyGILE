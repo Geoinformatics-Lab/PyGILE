{
 "cells": [
  {
   "cell_type": "markdown",
   "id": "24b29b8c",
   "metadata": {},
   "source": [
    " \n",
    "(python_by_example)=\n",
    "\n",
    "# An Introductory Example\n",
    "\n",
    "## Overview\n",
    "\n",
    "We\\'re now ready to start learning the Python language itself.\n",
    "\n",
    "In this lecture, we will write and then pick apart small Python\n",
    "programs.\n",
    "\n",
    "The objective is to introduce you to basic Python syntax and data\n",
    "structures.\n",
    "\n",
    "Deeper concepts will be covered in later lectures.\n",
    "\n",
    "## Understanding Data Structures\n",
    "\n",
    "In computer science, data structures are a way of organizing and storing data to perform operations efficiently. In Python, data structures come in various types, such as lists, tuples, sets, dictionaries, and more. Each data structure has its own characteristics and use cases.\n",
    "\n",
    "For example, lists are mutable sequences of elements, and you can add, remove, or modify elements easily. Dictionaries, on the other hand, use key-value pairs to store data, making it easy to retrieve values based on their corresponding keys.\n",
    "\n",
    "Throughout this course, we'll use data structures to represent and manipulate data in various Python programs.\n",
    "\n",
    "## Indentation in Python\n",
    "\n",
    "In Python, indentation is crucial for defining the structure of the code. Unlike many other programming languages that use braces ({}) to delimit code blocks, Python uses indentation. The number of spaces or tabs at the beginning of a line determines which code block the line belongs to.\n",
    "\n",
    "For example, in a `for` loop or `if` statement, the indented block of code represents what will be executed if the condition is met. Indentation must be consistent and usually follows the standard of four spaces.\n",
    "\n",
    "Now that we have an understanding of data structures and indentation, let's move on to writing some Python code examples.\n",
    "\n",
    "## The Task: Plotting a White Noise Process\n",
    "\n",
    "Suppose we want to simulate and plot the white noise process\n",
    "$\\epsilon_0, \\epsilon_1, \\ldots, \\epsilon_T$, where each draw\n",
    "$\\epsilon_t$ is independent standard normal.\n",
    "\n",
    "In other words, we want to generate figures that look something like\n",
    "this:\n",
    "\n",
    "\n",
    "```{figure} /_static/lecture_specific/python_by_example/test_program_1_updated.png\n",
    ":name: white_noise_plot\n",
    ":alt: White Noise Process Plot \n",
    " White Noise Process Plot\n",
    "```\n",
    "\n",
    "\n",
    "(Here $t$ is on the horizontal axis and $\\epsilon_t$ is on the vertical\n",
    "axis.)\n",
    "\n",
    "We\\'ll do this in several different ways, each time learning something\n",
    "more about Python.\n",
    "\n",
    "We run the following command first, which helps ensure that plots appear\n",
    "in the notebook if you run it on your own machine."
   ]
  },
  {
   "cell_type": "code",
   "execution_count": null,
   "id": "3d90cbad",
   "metadata": {},
   "outputs": [],
   "source": [
    "%matplotlib inline"
   ]
  },
  {
   "cell_type": "markdown",
   "id": "0be35058",
   "metadata": {},
   "source": [
    "## Version 1\n",
    "\n",
    "(ourfirstprog)=\n",
    "\n",
    "Here are a few lines of code that perform the task we set"
   ]
  },
  {
   "cell_type": "code",
   "execution_count": null,
   "id": "e914edad",
   "metadata": {},
   "outputs": [],
   "source": [
    "import numpy as np\n",
    "import matplotlib.pyplot as plt\n",
    "\n",
    "ϵ_values = np.random.randn(100)\n",
    "plt.plot(ϵ_values)\n",
    "plt.show()"
   ]
  },
  {
   "cell_type": "markdown",
   "id": "755ef6ab",
   "metadata": {},
   "source": [
    "Let\\'s break this program down and see how it works.\n",
    "\n",
    "(import)=\n",
    "\n",
    "### Imports\n",
    "\n",
    "The first two lines of the program import functionality from external\n",
    "code libraries.\n",
    "\n",
    "The first line imports NumPy, a\n",
    "favorite Python package for tasks like\n",
    "\n",
    "-   working with arrays (vectors and matrices)\n",
    "-   common mathematical functions like `cos` and `sqrt`\n",
    "-   generating random numbers\n",
    "-   linear algebra, etc.\n",
    "\n",
    "After `import numpy as np` we have access to these attributes via the\n",
    "syntax `np.attribute`.\n",
    "\n",
    "Here\\'s two more examples"
   ]
  },
  {
   "cell_type": "code",
   "execution_count": null,
   "id": "e2262315",
   "metadata": {},
   "outputs": [],
   "source": [
    "np.sqrt(4)"
   ]
  },
  {
   "cell_type": "code",
   "execution_count": null,
   "id": "c10ef272",
   "metadata": {},
   "outputs": [],
   "source": [
    "np.log(4)"
   ]
  },
  {
   "cell_type": "markdown",
   "id": "81c17b6c",
   "metadata": {},
   "source": [
    "We could also use the following syntax:"
   ]
  },
  {
   "cell_type": "code",
   "execution_count": null,
   "id": "ff440341",
   "metadata": {},
   "outputs": [],
   "source": [
    "import numpy\n",
    "\n",
    "numpy.sqrt(4)"
   ]
  },
  {
   "cell_type": "markdown",
   "id": "1039d753",
   "metadata": {},
   "source": [
    "But the former method (using the short name `np`) is convenient and more\n",
    "standard.\n",
    "\n",
    "#### Why So Many Imports?\n",
    "\n",
    "Python programs typically require several import statements.\n",
    "\n",
    "The reason is that the core language is deliberately kept small, so that\n",
    "it\\'s easy to learn and maintain.\n",
    "\n",
    "When you want to do something interesting with Python, you almost always\n",
    "need to import additional functionality.\n",
    "\n",
    "#### Packages\n",
    "\n",
    "As stated above, NumPy is a Python *package*.\n",
    "\n",
    "Packages are used by developers to organize code they wish to share.\n",
    "\n",
    "In fact, a package is just a directory containing\n",
    "\n",
    "1.  files with Python code --- called **modules** in Python speak\n",
    "2.  possibly some compiled code that can be accessed by Python (e.g.,\n",
    "    functions compiled from C or FORTRAN code)\n",
    "3.  a file called `__init__.py` that specifies what will be executed\n",
    "    when we type `import package_name`\n",
    "\n",
    "In fact, you can find and explore the directory for NumPy on your\n",
    "computer easily enough if you look around.\n",
    "\n",
    "On this machine, it\\'s located in\n",
    "\n",
    "```{code-block} none\n",
    "anaconda3/lib/python3.7/site-packages/numpy\n",
    "```\n",
    "\n",
    "#### Subpackages\n",
    "\n",
    "Consider the line `ϵ_values = np.random.randn(100)`.\n",
    "\n",
    "Here `np` refers to the package NumPy, while `random` is a\n",
    "**subpackage** of NumPy.\n",
    "\n",
    "Subpackages are just packages that are subdirectories of another\n",
    "package.\n",
    "\n",
    "### Importing Names Directly\n",
    "\n",
    "Recall this code that we saw above"
   ]
  },
  {
   "cell_type": "code",
   "execution_count": null,
   "id": "e779ec4b",
   "metadata": {},
   "outputs": [],
   "source": [
    "import numpy as np\n",
    "\n",
    "np.sqrt(4)"
   ]
  },
  {
   "cell_type": "markdown",
   "id": "628647a7",
   "metadata": {},
   "source": [
    "Here\\'s another way to access NumPy\\'s square root function"
   ]
  },
  {
   "cell_type": "code",
   "execution_count": null,
   "id": "659c6da5",
   "metadata": {},
   "outputs": [],
   "source": [
    "from numpy import sqrt\n",
    "\n",
    "sqrt(4)"
   ]
  },
  {
   "cell_type": "markdown",
   "id": "79a51afa",
   "metadata": {},
   "source": [
    "This is also fine.\n",
    "\n",
    "The advantage is less typing if we use `sqrt` often in our code.\n",
    "\n",
    "The disadvantage is that, in a long program, these two lines might be\n",
    "separated by many other lines.\n",
    "\n",
    "Then it\\'s harder for readers to know where `sqrt` came from, should\n",
    "they wish to.\n",
    "\n",
    "### Random Draws\n",
    "\n",
    "Returning to our program that plots white noise, the remaining three\n",
    "lines after the import statements are"
   ]
  },
  {
   "cell_type": "code",
   "execution_count": null,
   "id": "af1580e5",
   "metadata": {},
   "outputs": [],
   "source": [
    "ϵ_values = np.random.randn(100)\n",
    "plt.plot(ϵ_values)\n",
    "plt.show()"
   ]
  },
  {
   "cell_type": "markdown",
   "id": "36bff802",
   "metadata": {},
   "source": [
    "The first line generates 100 (quasi) independent standard normals and\n",
    "stores them in `ϵ_values`.\n",
    "\n",
    "The next two lines generate the plot.\n",
    "\n",
    "We can and will look at various ways to configure and improve this plot\n",
    "below.\n",
    "\n",
    "## Alternative Implementations\n",
    "\n",
    "Let\\'s try writing some alternative versions of\n",
    "{ref}`our first program <ourfirstprog>`, which\n",
    "plotted IID draws from the normal distribution.\n",
    "\n",
    "The programs below are less efficient than the original one, and hence\n",
    "somewhat artificial.\n",
    "\n",
    "But they do help us illustrate some important Python syntax and\n",
    "semantics in a familiar setting.\n",
    "\n",
    "\n",
    "### A Version with a For Loop\n",
    "\n",
    "Here\\'s a version that illustrates `for` loops and Python lists.\n",
    "\n",
    "(firstloopprog)="
   ]
  },
  {
   "cell_type": "code",
   "execution_count": null,
   "id": "6a9c9031",
   "metadata": {},
   "outputs": [],
   "source": [
    "ts_length = 100\n",
    "ϵ_values = []   # empty list\n",
    "\n",
    "for i in range(ts_length):\n",
    "    e = np.random.randn()\n",
    "    ϵ_values.append(e)\n",
    "\n",
    "plt.plot(ϵ_values)\n",
    "plt.show()"
   ]
  },
  {
   "cell_type": "markdown",
   "id": "6efe38c8",
   "metadata": {},
   "source": [
    "In brief,\n",
    "\n",
    "-   The first line sets the desired length of the time series.\n",
    "-   The next line creates an empty *list* called `ϵ_values` that will\n",
    "    store the $\\epsilon_t$ values as we generate them.\n",
    "-   The statement `# empty list` is a *comment*, and is ignored by\n",
    "    Python\\'s interpreter.\n",
    "-   The next three lines are the `for` loop, which repeatedly draws a\n",
    "    new random number $\\epsilon_t$ and appends it to the end of the list\n",
    "    `ϵ_values`.\n",
    "-   The last two lines generate the plot and display it to the user.\n",
    "\n",
    "Let\\'s study some parts of this program in more detail.\n",
    "\n",
    "(lists_ref)=\n",
    "\n",
    "### Lists\n",
    "\n",
    "Consider the statement `ϵ_values = []`, which creates an empty list.\n",
    "\n",
    "Lists are a *native Python data structure* used to group a collection of\n",
    "objects.\n",
    "\n",
    "For example, try"
   ]
  },
  {
   "cell_type": "code",
   "execution_count": null,
   "id": "43a5c532",
   "metadata": {},
   "outputs": [],
   "source": [
    "x = [10, 'foo', False]\n",
    "type(x)"
   ]
  },
  {
   "cell_type": "markdown",
   "id": "33a8a69d",
   "metadata": {},
   "source": [
    "The first element of `x` is an\n",
    "[integer](https://en.wikipedia.org/wiki/Integer_%28computer_science%29),\n",
    "the next is a\n",
    "[string](https://en.wikipedia.org/wiki/String_%28computer_science%29),\n",
    "and the third is a [Boolean value](https://en.wikipedia.org/wiki/Boolean_data_type).\n",
    "\n",
    "When adding a value to a list, we can use the syntax\n",
    "`list_name.append(some_value)`"
   ]
  },
  {
   "cell_type": "code",
   "execution_count": null,
   "id": "832536ce",
   "metadata": {},
   "outputs": [],
   "source": [
    "x"
   ]
  },
  {
   "cell_type": "code",
   "execution_count": null,
   "id": "ed68da25",
   "metadata": {},
   "outputs": [],
   "source": [
    "x.append(2.5)\n",
    "x"
   ]
  },
  {
   "cell_type": "markdown",
   "id": "688364a8",
   "metadata": {},
   "source": [
    "Here `append()` is what\\'s called a *method*, which is a function\n",
    "\\\"attached to\\\" an object---in this case, the list `x`.\n",
    "\n",
    "We\\'ll learn all about methods later on, but just to give you some idea,\n",
    "\n",
    "-   Python objects such as lists, strings, etc. all have methods that\n",
    "    are used to manipulate the data contained in the object.\n",
    "-   String objects have [string methods](https://docs.python.org/3/library/stdtypes.html#string-methods),\n",
    "    list objects have [list methods](https://docs.python.org/3/tutorial/datastructures.html#more-on-lists),\n",
    "    etc.\n",
    "\n",
    "Another useful list method is `pop()`"
   ]
  },
  {
   "cell_type": "code",
   "execution_count": null,
   "id": "52f22d26",
   "metadata": {},
   "outputs": [],
   "source": [
    "x"
   ]
  },
  {
   "cell_type": "code",
   "execution_count": null,
   "id": "4bac8121",
   "metadata": {},
   "outputs": [],
   "source": [
    "x.pop()"
   ]
  },
  {
   "cell_type": "code",
   "execution_count": null,
   "id": "e40a81b4",
   "metadata": {},
   "outputs": [],
   "source": [
    "x"
   ]
  },
  {
   "cell_type": "markdown",
   "id": "ce0829d1",
   "metadata": {},
   "source": [
    "Lists in Python are zero-based (as in C, Java or Go), so the first\n",
    "element is referenced by `x[0]`"
   ]
  },
  {
   "cell_type": "code",
   "execution_count": null,
   "id": "7743d841",
   "metadata": {},
   "outputs": [],
   "source": [
    "x[0]   # first element of x"
   ]
  },
  {
   "cell_type": "code",
   "execution_count": null,
   "id": "e801e27e",
   "metadata": {},
   "outputs": [],
   "source": [
    "x[1]   # second element of x"
   ]
  },
  {
   "cell_type": "markdown",
   "id": "58c26a76",
   "metadata": {},
   "source": [
    "### The For Loop\n",
    "\n",
    "Now let\\'s consider the `for` loop from\n",
    "{ref}`the program above <firstloopprog>`, which\n",
    "was"
   ]
  },
  {
   "cell_type": "code",
   "execution_count": null,
   "id": "e7db99e4",
   "metadata": {},
   "outputs": [],
   "source": [
    "for i in range(ts_length):\n",
    "    e = np.random.randn()\n",
    "    ϵ_values.append(e)"
   ]
  },
  {
   "cell_type": "markdown",
   "id": "3230af0b",
   "metadata": {},
   "source": [
    "Python executes the two indented lines `ts_length` times before moving\n",
    "on.\n",
    "\n",
    "These two lines are called a `code block`, since they comprise the\n",
    "\\\"block\\\" of code that we are looping over.\n",
    "\n",
    "Unlike most other languages, Python knows the extent of the code block\n",
    "*only from indentation*.\n",
    "\n",
    "In our program, indentation decreases after line `ϵ_values.append(e)`,\n",
    "telling Python that this line marks the lower limit of the code block.\n",
    "\n",
    "More on indentation below---for now, let\\'s look at another example of\n",
    "a `for` loop"
   ]
  },
  {
   "cell_type": "code",
   "execution_count": null,
   "id": "8c2aa2eb",
   "metadata": {},
   "outputs": [],
   "source": [
    "animals = ['dog', 'cat', 'bird']\n",
    "for animal in animals:\n",
    "    print(\"The plural of \" + animal + \" is \" + animal + \"s\")"
   ]
  },
  {
   "cell_type": "markdown",
   "id": "ee5b853d",
   "metadata": {},
   "source": [
    "This example helps to clarify how the `for` loop works: When we execute\n",
    "a loop of the form\n",
    "\n",
    "```{code-block}\n",
    "---\n",
    "class: no-execute\n",
    "---\n",
    "\n",
    "for variable_name in sequence:\n",
    "    <code block>\n",
    "```\n",
    "\n",
    "The Python interpreter performs the following:\n",
    "\n",
    "-   For each element of the `sequence`, it \\\"binds\\\" the name\n",
    "    `variable_name` to that element and then executes the code block.\n",
    "\n",
    "The `sequence` object can in fact be a very general object, as we\\'ll\n",
    "see soon enough.\n",
    "\n",
    "### A Comment on Indentation\n",
    "\n",
    "In discussing the `for` loop, we explained that the code blocks being\n",
    "looped over are delimited by indentation.\n",
    "\n",
    "In fact, in Python, **all** code blocks (i.e., those occurring inside\n",
    "loops, if clauses, function definitions, etc.) are delimited by\n",
    "indentation.\n",
    "\n",
    "Thus, unlike most other languages, whitespace in Python code affects the\n",
    "output of the program.\n",
    "\n",
    "Once you get used to it, this is a good thing: It\n",
    "\n",
    "-   forces clean, consistent indentation, improving readability\n",
    "-   removes clutter, such as the brackets or end statements used in\n",
    "    other languages\n",
    "\n",
    "On the other hand, it takes a bit of care to get right, so please\n",
    "remember:\n",
    "\n",
    "-   The line before the start of a code block always ends in a colon\n",
    "    -   `for i in range(10):`\n",
    "    -   `if x > y:`\n",
    "    -   `while x < 100:`\n",
    "    -   etc., etc.\n",
    "-   All lines in a code block **must have the same amount of indentation**.\n",
    "-   The Python standard is 4 spaces, and that\\'s what you should use.\n",
    "\n",
    "### While Loops\n",
    "\n",
    "The `for` loop is the most common technique for iteration in Python.\n",
    "\n",
    "But, for the purpose of illustration, let\\'s modify\n",
    "{ref}`the program above <firstloopprog>` to use\n",
    "a `while` loop instead.\n",
    "\n",
    "(whileloopprog)="
   ]
  },
  {
   "cell_type": "code",
   "execution_count": null,
   "id": "27d18480",
   "metadata": {},
   "outputs": [],
   "source": [
    "ts_length = 100\n",
    "ϵ_values = []\n",
    "i = 0\n",
    "while i < ts_length:\n",
    "    e = np.random.randn()\n",
    "    ϵ_values.append(e)\n",
    "    i = i + 1\n",
    "plt.plot(ϵ_values)\n",
    "plt.show()"
   ]
  },
  {
   "cell_type": "markdown",
   "id": "f93dcbea",
   "metadata": {},
   "source": [
    "Note that\n",
    "\n",
    "-   the code block for the `while` loop is again delimited only by indentation\n",
    "-   the statement `i = i + 1` can be replaced by `i += 1`\n",
    "\n",
    "## Another Application\n",
    "\n",
    "Let\\'s do one more application before we turn to exercises.\n",
    "\n",
    "In this application, we plot the balance of a bank account over time.\n",
    "\n",
    "There are no withdraws over the time period, the last date of which is\n",
    "denoted by $T$.\n",
    "\n",
    "The initial balance is $b_0$ and the interest rate is $r$.\n",
    "\n",
    "The balance updates from period $t$ to $t+1$ according to\n",
    "\n",
    "```{math}\n",
    ":label: ilom\n",
    "    b_{t+1} = (1 + r) b_t\n",
    "```\n",
    "\n",
    "In the code below, we generate and plot the sequence $b_0, b_1, \\ldots, b_T$\n",
    "generated by {eq}`ilom`.\n",
    "\n",
    "Instead of using a Python list to store this sequence, we will use a\n",
    "NumPy array."
   ]
  },
  {
   "cell_type": "code",
   "execution_count": null,
   "id": "6fadef24",
   "metadata": {},
   "outputs": [],
   "source": [
    "r = 0.025         # interest rate\n",
    "T = 50            # end date\n",
    "b = np.empty(T+1) # an empty NumPy array, to store all b_t\n",
    "b[0] = 10         # initial balance\n",
    "\n",
    "for t in range(T):\n",
    "    b[t+1] = (1 + r) * b[t]\n",
    "\n",
    "plt.plot(b, label='bank balance')\n",
    "plt.legend()\n",
    "plt.show()"
   ]
  },
  {
   "cell_type": "markdown",
   "id": "5dee2789",
   "metadata": {},
   "source": [
    "The statement `b = np.empty(T+1)` allocates storage in memory for `T+1`\n",
    "(floating point) numbers.\n",
    "\n",
    "These numbers are filled in by the `for` loop.\n",
    "\n",
    "Allocating memory at the start is more efficient than using a Python\n",
    "list and `append`, since the latter must repeatedly ask for storage\n",
    "space from the operating system.\n",
    "\n",
    "Notice that we added a legend to the plot.\n",
    "\n",
    "## Attribution\n",
    "The above lesson was pulled directly from work by [Thomas J. Sargent & John Stachurski](https://python-programming.quantecon.org/about_py.html)"
   ]
  }
 ],
 "metadata": {
  "jupytext": {
   "text_representation": {
    "extension": ".md",
    "format_name": "myst"
   }
  },
  "kernelspec": {
   "display_name": "Python 3",
   "language": "python",
   "name": "python3"
  },
  "source_map": [
   10,
   70,
   72,
   80,
   87,
   111,
   115,
   117,
   121,
   125,
   177,
   181,
   185,
   189,
   206,
   210,
   239,
   249,
   276,
   279,
   290,
   294,
   297,
   312,
   316,
   320,
   322,
   327,
   331,
   333,
   341,
   345,
   362,
   366,
   427,
   437,
   468,
   480
  ]
 },
 "nbformat": 4,
 "nbformat_minor": 5
}