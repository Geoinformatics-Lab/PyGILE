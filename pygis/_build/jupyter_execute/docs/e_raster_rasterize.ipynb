{
 "cells": [
  {
   "cell_type": "markdown",
   "id": "6a63a038",
   "metadata": {},
   "source": [
    "# Rasterize Vectors w. Rasterio\n",
    "\n",
    "----------------\n",
    "\n",
    "```{admonition} Learning Objectives\n",
    "* Convert vector data into raster format with rasterio\n",
    "* Understand the requirements for successful conversion\n",
    "```\n",
    "```{admonition} Review\n",
    "* [Spatial Vector Data](c_vectors.md)\n",
    "* [Spatial Raster Data](c_rasters.md)\n",
    "* [Reproject Rasters w. Rasterio and Geowombat](e_raster_reproject.md)\n",
    "```\n",
    "\n",
    "----------------\n",
    "\n",
    "Rasterizing vectors can be helpful if you want to incorporate vector data (i.e., point, line, or polygon) in your raster analysis. The process is essentially what the name suggests: We take a vector and convert it into pixels. This can be done with `rasterio`.\n",
    "\n",
    "## Setup\n",
    "\n",
    "We'll begin by importing our modules (click the + below to show code cell)."
   ]
  },
  {
   "cell_type": "code",
   "execution_count": null,
   "id": "820526da",
   "metadata": {
    "tags": [
     "hide-cell"
    ]
   },
   "outputs": [],
   "source": [
    "# Import modules\n",
    "import geopandas as gpd\n",
    "import matplotlib.pyplot as plt\n",
    "import rasterio\n",
    "from rasterio import features\n",
    "from rasterio.enums import MergeAlg\n",
    "from rasterio.plot import show\n",
    "from numpy import int16"
   ]
  },
  {
   "cell_type": "markdown",
   "id": "dee2ad32",
   "metadata": {},
   "source": [
    "## Rasterize vectors with rasterio\n",
    "\n",
    "We'll read in the vector file of some of California's counties. We will also read in a raster file to get the raster's metadata (i.e., coordinate system) so that we can apply those parameters to the vector file. In other words, the raster will serve as a \"reference\" for the the rasterization of the vector. In particular, we are going to match the shape (number of rows and columns) and the transform (UL corner location, cell size etc). For a refresher on transforms, please see the chapter on [Affine Transforms](d_affine.md).\n",
    "\n",
    "```{important} The vector and raster **must be** be in the same coordinate system. If not, you'll need to re-project one of them so they are the same. To re-project vectors, see the chapter on [Understanding CRS Codes](d_understand_crs_codes.md). To re-project rasters, see the chapter on [Reproject Rasters w. Rasterio and Geowombat](e_raster_reproject.md).\n",
    "```\n",
    "One important parameter in this function is `all_touched` which determines how zones are determined by polygons relative to the reference raster's cell centroids. Setting it to `False` implies that membership in a zone, defined by a polygon geometry, should be defined by whether it contains the centroid of a cell. `True` includes any cell that geometry boundary intersects. \n",
    "\n",
    "```{figure} ../_static/e_raster/zonal_stats.jpg\n",
    ":name: All touched rasterization \n",
    "all_touched determines the extent of zones\n",
    "```"
   ]
  },
  {
   "cell_type": "code",
   "execution_count": null,
   "id": "f5a0e581",
   "metadata": {},
   "outputs": [],
   "source": [
    "# Read in vector\n",
    "vector = gpd.read_file(r\"../_static/e_vector_shapefiles/sf_bay_counties/sf_bay_counties.shp\")\n",
    "\n",
    "# Get list of geometries for all features in vector file\n",
    "geom = [shapes for shapes in vector.geometry]\n",
    "\n",
    "# Open example raster\n",
    "raster = rasterio.open(r\"../_static/e_raster/bay-area-wells_kde_sklearn.tif\")"
   ]
  },
  {
   "cell_type": "markdown",
   "id": "519c9c6c",
   "metadata": {},
   "source": [
    "### Rasterize Binary Values for Shapes\n",
    "\n",
    "With our data loaded, we can rasterize the vector using the metadata from the raster using `rasterize()` in the `rasterio.features` module. For more information on this function, check out [the `rasterio` documentation](https://rasterio.readthedocs.io/en/latest/api/rasterio.features.html#rasterio.features.rasterize)."
   ]
  },
  {
   "cell_type": "code",
   "execution_count": null,
   "id": "cd060fc3",
   "metadata": {},
   "outputs": [],
   "source": [
    "# Rasterize vector using the shape and coordinate system of the raster\n",
    "rasterized = features.rasterize(geom,\n",
    "                                out_shape = raster.shape,\n",
    "                                fill = 0,\n",
    "                                out = None,\n",
    "                                transform = raster.transform,\n",
    "                                all_touched = False,\n",
    "                                default_value = 1,\n",
    "                                dtype = None)\n",
    "\n",
    "# Plot raster\n",
    "fig, ax = plt.subplots(1, figsize = (10, 10))\n",
    "show(rasterized, ax = ax)\n",
    "plt.gca().invert_yaxis()"
   ]
  },
  {
   "cell_type": "markdown",
   "id": "96958918",
   "metadata": {},
   "source": [
    "### Rasterize Attribute Value using Rasterio\n",
    "Often we want to burn in the value of a shapefile's attributes to the raster. We can do this by creating geometry, value pairs. In this example we take create a columns called `id` and assign the same values as the index. `id` will then be used to create our (geometry, value) pairs used for rasterization.  \n",
    "\n",
    "Note we use `all_touched=True` to avoid gaps between counties, which can introduce its own problems b/c two counties can compete for the same cell."
   ]
  },
  {
   "cell_type": "code",
   "execution_count": null,
   "id": "d75cc62d",
   "metadata": {},
   "outputs": [],
   "source": [
    "# create a numeric unique value for each row\n",
    "vector['id'] = range(0,len(vector))\n",
    "\n",
    "# create tuples of geometry, value pairs, where value is the attribute value you want to burn\n",
    "geom_value = ((geom,value) for geom, value in zip(vector.geometry, vector['id']))\n",
    "\n",
    "# Rasterize vector using the shape and transform of the raster\n",
    "rasterized = features.rasterize(geom_value,\n",
    "                                out_shape = raster.shape,\n",
    "                                transform = raster.transform,\n",
    "                                all_touched = True,\n",
    "                                fill = -5,   # background value\n",
    "                                merge_alg = MergeAlg.replace,\n",
    "                                dtype = int16)\n",
    "\n",
    "# Plot raster\n",
    "fig, ax = plt.subplots(1, figsize = (10, 10))\n",
    "show(rasterized, ax = ax)\n",
    "plt.gca().invert_yaxis()"
   ]
  },
  {
   "cell_type": "markdown",
   "id": "94a56391",
   "metadata": {},
   "source": [
    "Finally, we can save the rasterized vector out."
   ]
  },
  {
   "cell_type": "code",
   "execution_count": null,
   "id": "5eb86503",
   "metadata": {},
   "outputs": [],
   "source": [
    "with rasterio.open(\n",
    "        \"../temp/rasterized_vector.tif\", \"w\",\n",
    "        driver = \"GTiff\",\n",
    "        crs = raster.crs,\n",
    "        transform = raster.transform,\n",
    "        dtype = rasterio.uint8,\n",
    "        count = 1,\n",
    "        width = raster.width,\n",
    "        height = raster.height) as dst:\n",
    "    dst.write(rasterized, indexes = 1)"
   ]
  }
 ],
 "metadata": {
  "jupytext": {
   "text_representation": {
    "extension": ".md",
    "format_name": "myst"
   }
  },
  "kernelspec": {
   "display_name": "Python 3",
   "language": "python",
   "name": "python3"
  },
  "myst": {
   "html_meta": {
    "description lang=en": "Learn how to convert vector shapefiles into raster files using rasterio.",
    "keywords": "spatial, python, rasterio, raster, vector, shapefile, rasterize",
    "property=og:locale": "en_US"
   }
  },
  "source_map": [
   15,
   39,
   50,
   65,
   74,
   80,
   95,
   102,
   122,
   126
  ]
 },
 "nbformat": 4,
 "nbformat_minor": 5
}