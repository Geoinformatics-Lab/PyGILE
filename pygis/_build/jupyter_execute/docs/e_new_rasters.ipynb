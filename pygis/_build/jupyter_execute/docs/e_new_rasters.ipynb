{
 "cells": [
  {
   "cell_type": "markdown",
   "id": "b98d117a",
   "metadata": {},
   "source": [
    "(e_raster_reproject)=\n",
    "\n",
    "----------------\n",
    "```{admonition} Learning Objectives\n",
    "- Creating raster data with Rasterio\n",
    "- Creating raster data with Rasterio\n",
    "```\n",
    "```{admonition} Review\n",
    "* [Affine transformation](d_affine.md)\n",
    "* [Raster Coordinate Reference Systems](d_raster_crs_intro.md)\n",
    "* [Spatial Raster Data](c_rasters.md)\n",
    "```\n",
    "----------------\n",
    " \n",
    "\n",
    "# Reading & Writing Rasters with Rasterio \n",
    "In order to work with raster data we will be using `rasterio` and later `geowombat`. Behind the scenes a `numpy.ndarray` does all the heavy lifting. To understand how raster works it helps to construct one from scratch. \n",
    "\n",
    "Here we create two `ndarray` objects one `X` spans [-90&deg;,90&deg;] longitude, and `Y` covers [-90&deg;,90&deg;] latitude."
   ]
  },
  {
   "cell_type": "code",
   "execution_count": null,
   "id": "aa789d6e",
   "metadata": {},
   "outputs": [],
   "source": [
    "import numpy as np\n",
    "x = np.linspace(-90, 90, 6)\n",
    "y = np.linspace(90, -90, 6)\n",
    "X, Y = np.meshgrid(x, y)\n",
    "X"
   ]
  },
  {
   "cell_type": "code",
   "execution_count": null,
   "id": "df04b776",
   "metadata": {},
   "outputs": [],
   "source": [
    "Y"
   ]
  },
  {
   "cell_type": "markdown",
   "id": "78973f7e",
   "metadata": {},
   "source": [
    "Let's generate some data representing temperature and store it an array `Z`"
   ]
  },
  {
   "cell_type": "code",
   "execution_count": null,
   "id": "2b587a8c",
   "metadata": {},
   "outputs": [],
   "source": [
    "import matplotlib.pyplot as plt\n",
    "\n",
    "Z1 =  np.abs(((X - 10) ** 2 + (Y - 10) ** 2) / 1 ** 2)\n",
    "Z2 =  np.abs(((X + 10) ** 2 + (Y + 10) ** 2) / 2.5 ** 2)\n",
    "Z =  (Z1 - Z2)\n",
    "\n",
    "plt.imshow(Z)\n",
    "plt.title(\"Temperature\")\n",
    "plt.show()"
   ]
  },
  {
   "cell_type": "markdown",
   "id": "aa5cde2e",
   "metadata": {},
   "source": [
    "## Creating Raster Data\n",
    "\n",
    "The final array `Z` still lacks a number of elements that transform it from being a non-spatial `numpy` array to a spatial one usable by `rasterio` etc. `Rasterio` requires the following elements to write out a geotif, or spatial raster dataset:\n",
    "\n",
    "| Parameters     | Description    | Argument      |\n",
    "| :---          | ---:           |---:        |\n",
    "| driver  | the name of the desired format driver   |  `'GTiff'` |\n",
    "| width  | the number of columns of the dataset   |  `Z.shape[1]` |\n",
    "| height  | the number of rows of the dataset   |  `Z.shape[0]` |\n",
    "| count  | a count of the dataset bands   |  `1` |\n",
    "| dtype  | the data type of the dataset   |  `Z.dtype` |\n",
    "| crs  | a coordinate reference system identifier or description   |  `'+proj=latlong'`|\n",
    "| transform  | an affine transformation matrix   |  `Affine.translation(x[0] - xres / 2, y[0] - yres / 2) * Affine.scale(xres, yres)`|\n",
    "| nodata  | a “nodata” value   |  `-9999`|\n",
    "\n",
    "```{note}\n",
    "`transform` defines the location of the upper left hand corner of the raster on the globe, and its spatial resolution. The arguments for `transform` are complex and beyond the scope of the chapter, please refer to the next chapter @ [affine transforms](d_affine.md) and [raster crs](d_raster_crs_intro.md) for more info. \n",
    "```\n",
    "## Writing Rasters\n",
    "To save this array along with spatial information to a file, we call `rasterio.open()` with a path to the new file to be created, and 'w' to specify writing mode, along with the arguments above."
   ]
  },
  {
   "cell_type": "code",
   "execution_count": null,
   "id": "528a0a8a",
   "metadata": {},
   "outputs": [],
   "source": [
    "import rasterio\n",
    "from rasterio.transform import Affine\n",
    "\n",
    "xres = (x[-1] - x[0]) / len(x)\n",
    "yres = (y[-1] - y[0]) / len(y)\n",
    "\n",
    "transform = Affine.translation(x[0] - xres / 2, y[0] - yres / 2) * Affine.scale(xres, yres)\n",
    "\n",
    "with rasterio.open(\n",
    "        \"../temp/temperature.tif\",\n",
    "        mode=\"w\",\n",
    "        driver=\"GTiff\",\n",
    "        height=Z.shape[0],\n",
    "        width=Z.shape[1],\n",
    "        count=1,\n",
    "        dtype=Z.dtype,\n",
    "        crs=\"+proj=latlong\",\n",
    "        transform=transform,\n",
    ") as new_dataset:\n",
    "        new_dataset.write(Z, 1)\n"
   ]
  },
  {
   "cell_type": "markdown",
   "id": "7ed3dd8a",
   "metadata": {},
   "source": [
    "When we go to look again at our data we can read it back in using `open`. Before plotting we `raster.read(1)` the first band, which converts the data back to a `numpy` array that can be plotted in `matplotlib`.  Notice that we also specify the band number (in this case 1), with `.write(Z, 1)`."
   ]
  },
  {
   "cell_type": "code",
   "execution_count": null,
   "id": "91a33e73",
   "metadata": {},
   "outputs": [],
   "source": [
    "import matplotlib.pyplot as plt\n",
    "\n",
    "raster = rasterio.open(\"../temp/temperature.tif\")\n",
    "\n",
    "plt.imshow(raster.read(1), cmap=\"BrBG\")\n",
    "plt.title(\"Temperature\")\n",
    "plt.show()"
   ]
  },
  {
   "cell_type": "markdown",
   "id": "7d6a775e",
   "metadata": {},
   "source": [
    "So in summary, a spatial dataset is essentially just a `numpy.ndarray` with information about the location and resolution of the array, the [coordinate reference system](d_crs_what_is_it.md), and number of bands. This information is typically accessed and updated via the `.profile`."
   ]
  },
  {
   "cell_type": "code",
   "execution_count": null,
   "id": "81a4fb18",
   "metadata": {},
   "outputs": [],
   "source": [
    "print(raster.profile)"
   ]
  },
  {
   "cell_type": "markdown",
   "id": "d4942c1d",
   "metadata": {},
   "source": [
    "## Update Raster Metadata\n",
    "Notice the the `.profile` above is missing a meaningful `nodata` value and was uncompressed. Let's learn how to update these values. For this we can update the `.profile` dictionary."
   ]
  },
  {
   "cell_type": "code",
   "execution_count": null,
   "id": "d2cc138d",
   "metadata": {},
   "outputs": [],
   "source": [
    "# start with the original profile\n",
    "profile = raster.profile\n",
    "# update values for nodata and compression type\n",
    "profile.update(nodata=0, compress=\"lzw\")\n",
    "print(profile)"
   ]
  },
  {
   "cell_type": "markdown",
   "id": "6c536688",
   "metadata": {},
   "source": [
    "Now we just need to write the array of data (obtained from `raster.read(1)`) out with the updated profile info. We can unpack all the dictionary values from the profile using `**profile`."
   ]
  },
  {
   "cell_type": "code",
   "execution_count": null,
   "id": "b360e6d7",
   "metadata": {},
   "outputs": [],
   "source": [
    "with rasterio.open(\"../temp/temperature.tif\", \n",
    "                  mode=\"w\", \n",
    "                  **profile,) as update_dataset:\n",
    "    update_dataset.write(raster.read(1), 1)"
   ]
  },
  {
   "cell_type": "markdown",
   "id": "e2b7a4e6",
   "metadata": {},
   "source": [
    "## Rasterio Multiband Rasters \n",
    "Working with multiband imagery starts to get a bit tricky, especially with `rasterio` alone. \n",
    "\n",
    "Let's start with a problematic raster file, a landsat image that stores its red, green, and blue bands in reverse order (blue, green, red), that is scaled by 100 (multiplied by 100 to store data as integers rather than float), and that is missing a meaningful nodata value."
   ]
  },
  {
   "cell_type": "code",
   "execution_count": null,
   "id": "59239d3b",
   "metadata": {},
   "outputs": [],
   "source": [
    "with rasterio.open(\n",
    "    \"../data/LC08_L1TP_224078_20200518_20200518_01_RT.TIF\", mode=\"r\", nodata=0) as src:\n",
    "    # read in the array, band 3 first, then band 2, then band 1\n",
    "    arr = src.read([3, 2, 1])\n",
    "    # the array has three bands\n",
    "    print(\"Array shape:\", arr.shape)\n",
    "    # look at the profile, despite setting nodata=0, there still isn't a nodata value \n",
    "    # this is because we need to update the profile and write out a new image with\n",
    "    #  nodata set\n",
    "    profile = src.profile\n",
    "    print(profile)"
   ]
  },
  {
   "cell_type": "markdown",
   "id": "f044fd3d",
   "metadata": {},
   "source": [
    "```{note}\n",
    "We use `src.read([3, 2, 1])` in order to reverse the read order of our bands. With this the original blue, green, red order is read in reverse as red, green, blue, which is required for true color images. \n",
    "```\n",
    "\n",
    "To see what it looks like, let's use rasterio's `show` function which *sort of helps* when viewing multiband imagery."
   ]
  },
  {
   "cell_type": "code",
   "execution_count": null,
   "id": "4e097959",
   "metadata": {},
   "outputs": [],
   "source": [
    "from rasterio.plot import show\n",
    "print(arr)\n",
    "print('--------------')\n",
    "show(arr)"
   ]
  },
  {
   "cell_type": "markdown",
   "id": "d0bdfe83",
   "metadata": {},
   "source": [
    "Arg... it looks terrible. A few things, the primary problem is that the zeros aren't being treated as missing data, and therefor messing everything up. Second, there is a message at the top of the image saying its `clipping... [0..255] for integers)`. \n",
    "\n",
    "Let's check what the range of values are in our raster. To do this we will use `scipy` `stats`, and `.ravel()` to convert our `n` dimension array to a `1d` array."
   ]
  },
  {
   "cell_type": "code",
   "execution_count": null,
   "id": "eb74b841",
   "metadata": {},
   "outputs": [],
   "source": [
    "from scipy import stats\n",
    "\n",
    "print(stats.describe(arr.ravel()))"
   ]
  },
  {
   "cell_type": "markdown",
   "id": "4bd50e31",
   "metadata": {},
   "source": [
    "Since we currently have integer data that ranges from 0 to 24147, we should try scaling it, if we go to the documentation we would see that we need to divide all values by 100."
   ]
  },
  {
   "cell_type": "code",
   "execution_count": null,
   "id": "096bdee8",
   "metadata": {},
   "outputs": [],
   "source": [
    "scaled_arr = arr / 100\n",
    "print(scaled_arr.dtype)"
   ]
  },
  {
   "cell_type": "markdown",
   "id": "ecec256e",
   "metadata": {},
   "source": [
    "Then let's write the data back out again with an updated profile. Notice that the datatype (`dtype`) has changed since we divided by 100."
   ]
  },
  {
   "cell_type": "code",
   "execution_count": null,
   "id": "0eb17097",
   "metadata": {},
   "outputs": [],
   "source": [
    "# update the profile for the new raster\n",
    "profile = src.profile\n",
    "profile.update(nodata=0, compress=\"lzw\", dtype=scaled_arr.dtype)\n",
    "\n",
    "# write out raster as RGB \n",
    "with rasterio.open(\n",
    "    \"../temp/LS_scaled_20200518.tif\",\n",
    "    mode=\"w\",\n",
    "    **profile,  # unpack the profile arguments set above\n",
    ") as new_dataset:\n",
    "    new_dataset.write(scaled_arr, [1, 2, 3])"
   ]
  },
  {
   "cell_type": "markdown",
   "id": "e8f017fe",
   "metadata": {},
   "source": [
    "```{note}\n",
    "Since the bands have already been put in the right order in the array (ie. RGB), we can just write it out as follows `.write(scaled_arr, [1, 2, 3])`. \n",
    "```\n",
    "\n",
    "There you go! A fixed raster. Try opening it in Qgis to make sure. We can look at it now using rasterio `show`, but again it isn't great, but better."
   ]
  },
  {
   "cell_type": "code",
   "execution_count": null,
   "id": "98a2ea99",
   "metadata": {},
   "outputs": [],
   "source": [
    "with rasterio.open(\"../temp/LS_scaled_20200518.tif\", mode=\"r\") as src:\n",
    "    show(src,adjust='linear')"
   ]
  },
  {
   "cell_type": "markdown",
   "id": "8bf4a8b7",
   "metadata": {},
   "source": [
    "To help make all of this easier and more intuitive we will be presenting the use of `geowombat` for remote sensing applications later, [start here](f_rs_intro).\n",
    "\n",
    "Just as a preview, here's how to do this in `geowombat`."
   ]
  },
  {
   "cell_type": "code",
   "execution_count": null,
   "id": "6252b490",
   "metadata": {},
   "outputs": [],
   "source": [
    "import geowombat as gw\n",
    "import matplotlib.pyplot as plt\n",
    "\n",
    "fig, ax = plt.subplots(dpi=200)\n",
    "\n",
    "# tell gw to read a blue green red\n",
    "with gw.config.update(sensor=\"bgr\"):\n",
    "    with gw.open(\"../data/LC08_L1TP_224078_20200518_20200518_01_RT.TIF\") as src:\n",
    "        \n",
    "        # see that bands names, blue green red are assigned\n",
    "        print(src.band)\n",
    "\n",
    "        # remove 0 value, rearrange band order \n",
    "        temp = src.where(src != 0).sel(band=[\"red\", \"green\", \"blue\"])\n",
    "\n",
    "        # plot\n",
    "        temp.gw.imshow(robust=True, ax=ax)\n",
    "\n",
    "        #save to file\n",
    "        temp.gw.to_raster(\n",
    "            \"../temp/LS_scaled_20200518.tif\", verbose=0, n_workers=4, overwrite=True\n",
    "        )"
   ]
  },
  {
   "cell_type": "markdown",
   "id": "c10598c0",
   "metadata": {},
   "source": [
    "----------\n",
    "Credits: [rasterio quickstart](https://rasterio.readthedocs.io/en/latest/quickstart.html)"
   ]
  }
 ],
 "metadata": {
  "jupytext": {
   "text_representation": {
    "extension": ".md",
    "format_name": "myst"
   }
  },
  "kernelspec": {
   "display_name": "Python 3",
   "language": "python",
   "name": "python3"
  },
  "myst": {
   "html_meta": {
    "description lang=en": "",
    "keywords": "spatial, raster, reproject, crs, landsat",
    "property=og:locale": "en_US"
   }
  },
  "source_map": [
   15,
   37,
   45,
   47,
   50,
   60,
   84,
   106,
   109,
   117,
   122,
   124,
   129,
   135,
   138,
   143,
   150,
   162,
   170,
   175,
   180,
   184,
   187,
   190,
   193,
   205,
   212,
   215,
   221,
   244
  ]
 },
 "nbformat": 4,
 "nbformat_minor": 5
}