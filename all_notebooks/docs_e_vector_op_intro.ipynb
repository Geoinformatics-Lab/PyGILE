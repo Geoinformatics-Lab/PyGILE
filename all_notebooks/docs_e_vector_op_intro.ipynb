{
 "cells": [
  {
   "cell_type": "markdown",
   "id": "thick-embassy",
   "metadata": {},
   "source": [
    "(e_vector_op_intro)=\n",
    "\n",
    "# Vector Skills\n",
    " \n",
    "In this section we will learn how to:\n",
    "\n",
    "\n",
    "```{toctree}\n",
    ":hidden:\n",
    ":titlesonly:\n",
    "\n",
    "\n",
    "c_attributes\n",
    "```"
   ]
  }
 ],
 "metadata": {
  "jupytext": {
   "text_representation": {
    "extension": ".md",
    "format_name": "myst"
   }
  },
  "kernelspec": {
   "display_name": "Python 3",
   "language": "python",
   "name": "python3"
  },
  "language_info": {
   "codemirror_mode": {
    "name": "ipython",
    "version": 3
   },
   "file_extension": ".py",
   "mimetype": "text/x-python",
   "name": "python",
   "nbconvert_exporter": "python",
   "pygments_lexer": "ipython3",
   "version": "3.7.10"
  },
  "source_map": [
   10
  ]
 },
 "nbformat": 4,
 "nbformat_minor": 5
}