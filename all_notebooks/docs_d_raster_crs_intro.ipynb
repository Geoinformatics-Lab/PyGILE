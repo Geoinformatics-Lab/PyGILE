{
 "cells": [
  {
   "cell_type": "markdown",
   "id": "devoted-necklace",
   "metadata": {},
   "source": [
    "(d_raster_crs_intro)=\n",
    "\n",
    "# Raster CRS \n",
    " \n",
    "In this section we will learn how to 'reproject' or warp raster data.\n",
    "\n",
    "Learning Objectives:\n",
    "- What is warping?\n",
    "- What is an affine transformation?\n",
    "\n",
    "\n",
    ":::{warning}\n",
    "This section is heavily dependent on the lesson about affine transformations. Please review this content [here](d_affine).\n",
    ":::\n",
    " \n",
    "## Warping Images"
   ]
  }
 ],
 "metadata": {
  "jupytext": {
   "text_representation": {
    "extension": ".md",
    "format_name": "myst"
   }
  },
  "kernelspec": {
   "display_name": "Python 3",
   "language": "python",
   "name": "python3"
  },
  "language_info": {
   "codemirror_mode": {
    "name": "ipython",
    "version": 3
   },
   "file_extension": ".py",
   "mimetype": "text/x-python",
   "name": "python",
   "nbconvert_exporter": "python",
   "pygments_lexer": "ipython3",
   "version": "3.7.10"
  },
  "source_map": [
   10
  ]
 },
 "nbformat": 4,
 "nbformat_minor": 5
}