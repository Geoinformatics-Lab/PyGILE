{
 "cells": [
  {
   "cell_type": "markdown",
   "id": "674df227",
   "metadata": {},
   "source": [
    "# Window Operations with Rasterio and GeoWombat\n",
    "\n",
    "----------------\n",
    "\n",
    "```{admonition} Learning Objectives\n",
    "* Conduct and understand window operations with rasterio\n",
    "* Conduct window operations with GeoWombat\n",
    "```\n",
    "```{admonition} Review\n",
    "* [Spatial Raster Data](c_rasters.md)\n",
    "```\n",
    "\n",
    "----------------\n",
    "\n",
    "## Background\n",
    "\n",
    "Moving windows or filters are often used in raster analysis. For example, they can be used to obtain the maximum value within a certain neighborhood, to smooth out values, or detect holes or edges (i.e., where pixel values that are near each other change abruptly).\n",
    "\n",
    "These moving windows can also be called filters or kernels. They can be of many different sizes and shapes (the most common is 3-cell-by-3-cell rectangular window) and can have different or the same values for each cell. The center of the filter can be called the target cell or the center pixel, and the surrounding cells are referred to as the neighbors.\n",
    "\n",
    "The filter passes through all *non-edge* cells in the raster. During each pass of the filter, the center cell is updated based on the cells adjacent to it. In the `3x3` filter example, the center cell is updated by the eight cells that neighbor it. The filter then pulls the values from the neighboring cells and the center pixel itself, performs a calculation based on the filter values (e.g., calculates the mean), reports that resulting value back to the identical location of the original pixel, moves to the next pixel, and repeats the process.\n",
    "\n",
    "```{figure} ../_static/img/raster_sliding_window.jpg\n",
    ":name: Sliding Window Operations\n",
    "Sliding window operations move across an entire raster.\n",
    "```\n",
    "\n",
    "The filter values can essentially be any number--they can be the same across the filter or be all different. The values determine how the output is calculated (equation below assuming a `3x3` filter for nine cells total in the kernel):\n",
    "\n",
    "$$\n",
    "    X_{w} = \\sum_{i=1}^{9}X_{i}k_{i}\n",
    "$$\n",
    "\n",
    "*where:*\n",
    "  $X_{i}$ = raster cell value\n",
    "\n",
    "  $k_{i}$ = kernel cell value\n",
    "\n",
    "  $i$ = index of cells in the nine kernel cell values\n",
    "\n",
    "\n",
    "The values also determine *what* is calculated. For example, setting all filter values to `1` will result in the filter outputting the sum of all raster pixel values within the filter. Setting all filter values to `1/9` for a `3x3` filter will result in the filter outputting the average of all raster pixel values within the filter.\n",
    "\n",
    "```{figure} ../_static/img/raster_window_operations.jpg\n",
    ":name: Moving Window Operation Examples\n",
    "Example filter values for `3x3` moving windows. Different filter value combinations and arrangements can produce different outputs.\n",
    "```\n",
    "\n",
    "For more information on moving windows, see the [\"Neighborhood Operations\" section in this chapter on raster geoprocessing](https://saylordotorg.github.io/text_essentials-of-geographic-information-systems/s12-02-scale-of-analysis.html).\n",
    "\n",
    "```{attention}\n",
    "With window operations, the edge pixels will generally be cut out from the output because those edge pixels do not have neighboring pixels all around it. As window operations generally require a pixel to be surrounded on all four sides, we cannot perform calculations on these edge pixels. The pixels that constitute the \"edge\" depends on the shape of the kernel. For example, a `3x3` kernel only requires 1 neighboring pixel in each direction, so only the outer ring of pixels will be cut out from the output. A `5x5` kernel requires 2 neighboring pixels in each direction, so the two outer rings of pixels will be cut out.\n",
    "```\n",
    "\n",
    "## Setup\n",
    "\n",
    "We'll explore two methods, one using `rasterio` and another using `GeoWombat`.\n",
    "\n",
    "First, we'll import our modules (click the + below to show code cell)."
   ]
  },
  {
   "cell_type": "code",
   "execution_count": 3,
   "id": "30aa5fea",
   "metadata": {
    "tags": [
     "hide-cell"
    ]
   },
   "outputs": [],
   "source": [
    "# Import modules\n",
    "import geowombat as gw\n",
    "import numpy as np\n",
    "from itertools import product\n",
    "import rasterio\n",
    "from rasterio.transform import Affine\n",
    "import matplotlib.pyplot as plt"
   ]
  },
  {
   "cell_type": "markdown",
   "id": "ec7ca918",
   "metadata": {},
   "source": [
    "## Window operations with rasterio\n",
    "\n",
    "The most intuitive way to perform window operations in Python is to use a `for` loop. With this method, we would iterate through each non-edge pixel, obtain the surrounding pixel values and the center pixel value, perform some sort of calculation, report that resulting value back to the identical location of the original pixel, move to the next pixel, and repeat the process. Iterating through each pixel, however, has the potential to be extremely time and computationally intensive (there could be many, many pixels).\n",
    "\n",
    "To mitigate this limitation, instead of using a `for` loop, we can get each neighbor value simultaneously for all non-edge pixels. Another way to think of it is that instead of using a `for` loop to iterate through each pixel to get neighboring values, we can iterate through each kernel position to get the neighboring value corresponding to a certain kernel position for all non-edge pixels at once. This is what a vectorized sliding window does.\n",
    "\n",
    "The vectorized sliding window is grounded in the concept that each position in the kernel has a certain relative position or offset (e.g., one pixel to the left) from the center pixel of the kernel. This method works because each pixel in a raster is in essence a neighbor to at least one other pixel. The vectorized sliding window simply offsets itself within the raster array extent so that each pixel that falls within the vectorized sliding window is the neighbor of the same relative position (e.g., one pixel to the left) to its center pixel.\n",
    "\n",
    "A vectorized sliding window is created for each position in the kernel. The vectorized sliding window of a certain kernel position is applied over the raster and obtains--all at once--the neighboring pixel value corresponding to that kernel position for all non-edge pixels. The size of vectorized sliding window is dependent on the size of the raster and kernel but will always fall between the two.\n",
    "\n",
    "For more conceptual information on vectorized sliding windows and how they compare to iterating through each pixel, see [this article](https://opensourceoptions.com/blog/vectorize-moving-window-grid-operations-on-numpy-arrays/).\n",
    "\n",
    "Let's create a raster (click the + below to show code cell)."
   ]
  },
  {
   "cell_type": "code",
   "execution_count": 4,
   "id": "0a419c7e",
   "metadata": {
    "tags": [
     "hide-cell"
    ]
   },
   "outputs": [
    {
     "data": {
      "image/png": "[encoded data removed]",
      "text/plain": [
       "<Figure size 640x480 with 1 Axes>"
      ]
     },
     "metadata": {},
     "output_type": "display_data"
    },
    {
     "name": "stdout",
     "output_type": "stream",
     "text": [
      "[[13776.    8586.24  5573.76  4738.56  6080.64  9600.  ]\n",
      " [10256.64  5066.88  2054.4   1219.2   2561.28  6080.64]\n",
      " [ 8914.56  3724.8    712.32  -122.88  1219.2   4738.56]\n",
      " [ 9749.76  4560.    1547.52   712.32  2054.4   5573.76]\n",
      " [12762.24  7572.48  4560.    3724.8   5066.88  8586.24]\n",
      " [17952.   12762.24  9749.76  8914.56 10256.64 13776.  ]]\n"
     ]
    }
   ],
   "source": [
    "# Generate mesh grid for rasters\n",
    "x = np.linspace(-90, 90, 6)\n",
    "y = np.linspace(90, -90, 6)\n",
    "X, Y = np.meshgrid(x, y)\n",
    "\n",
    "# Generate values for mesh grid\n",
    "Z1 = np.abs(((X - 10) ** 2 + (Y - 10) ** 2) / 1 ** 2)\n",
    "Z2 = np.abs(((X + 10) ** 2 + (Y + 10) ** 2) / 2.5 ** 2)\n",
    "Z3 = np.abs(((X + 3) + (Y - 8) ** 2) / 3 ** 2)\n",
    "\n",
    "# Generate raster values\n",
    "Z = (Z1 - Z2)\n",
    "\n",
    "# Set transform\n",
    "xres = (x[-1] - x[0]) / len(x)\n",
    "yres = (y[-1] - y[0]) / len(y)\n",
    "transform = Affine.translation(x[0] - xres / 2, y[0] - yres / 2) * Affine.scale(xres, yres)\n",
    "\n",
    "# Save first raster\n",
    "with rasterio.open(\n",
    "        \"../pygis/temp/window_raster.tif\",\n",
    "        mode=\"w\",\n",
    "        driver=\"GTiff\",\n",
    "        height=Z.shape[0],\n",
    "        width=Z.shape[1],\n",
    "        count=1,\n",
    "        dtype=Z.dtype,\n",
    "        crs=\"+proj=latlong\",\n",
    "        transform=transform,\n",
    ") as new_dataset:\n",
    "        new_dataset.write(Z, 1)\n",
    "\n",
    "# Open and read raster\n",
    "src = rasterio.open(\"../pygis/temp/window_raster.tif\")\n",
    "raster = src.read(1)\n",
    "\n",
    "# Plot raster\n",
    "plt.imshow(raster, cmap=\"BrBG\")\n",
    "plt.title(\"Raster\")\n",
    "plt.show()\n",
    "\n",
    "# Show raster values\n",
    "print(raster)"
   ]
  },
  {
   "cell_type": "markdown",
   "id": "70dca0a0",
   "metadata": {},
   "source": [
    "### Create kernel\n",
    "\n",
    "Second, we can generate a kernel array. The array can consist of a single value or multiple values. Below, we generate a `3x3` kernel consisting of the value `1/9`. This kernel will output the average value of the center cell and its surrounding eight neighbors.\n",
    "\n",
    "```{important} The kernel should have an odd number of rows and columns and should not have more rows and columns than the input raster.\n",
    "```\n",
    "\n",
    "```{tip}\n",
    "To create a non-rectangular shape, simply add `0`s in the kernel positions to be ignored.\n",
    "```"
   ]
  },
  {
   "cell_type": "code",
   "execution_count": 5,
   "id": "b893323f",
   "metadata": {},
   "outputs": [],
   "source": [
    "# Create a kernel to calculate the average\n",
    "kernel = np.full((3, 3), 1/9)\n",
    "\n",
    "# Get kernel shape\n",
    "kernel_shape = kernel.shape\n",
    "\n",
    "# Convert the kernel to a flattened array\n",
    "kernel_array = np.ravel(kernel)"
   ]
  },
  {
   "cell_type": "markdown",
   "id": "7b339858",
   "metadata": {},
   "source": [
    "### Create output arrays\n",
    "\n",
    "Next, we will create two arrays that will store our calculations.\n",
    "\n",
    "The first array is the output array, which has the same shape as that of the input raster. We will initially fill the array with placeholder values. This array will be the final result that is exported and saved."
   ]
  },
  {
   "cell_type": "code",
   "execution_count": 6,
   "id": "0e9e8593",
   "metadata": {},
   "outputs": [
    {
     "name": "stdout",
     "output_type": "stream",
     "text": [
      "[[-9999. -9999. -9999. -9999. -9999. -9999.]\n",
      " [-9999. -9999. -9999. -9999. -9999. -9999.]\n",
      " [-9999. -9999. -9999. -9999. -9999. -9999.]\n",
      " [-9999. -9999. -9999. -9999. -9999. -9999.]\n",
      " [-9999. -9999. -9999. -9999. -9999. -9999.]\n",
      " [-9999. -9999. -9999. -9999. -9999. -9999.]]\n"
     ]
    }
   ],
   "source": [
    "# Create raster array with placeholder values in shape of raster\n",
    "output_rio = np.full((raster.shape[0], raster.shape[1]), -9999)\n",
    "\n",
    "# Set array data type\n",
    "output_rio = output_rio.astype(np.float64) ###\n",
    "\n",
    "# Display raster array with placeholder values\n",
    "print(output_rio)"
   ]
  },
  {
   "cell_type": "markdown",
   "id": "1dd07089",
   "metadata": {},
   "source": [
    "The second array, initially filled with `0`s, will hold the pixel value as calculated from the vectorized sliding windows (e.g., mean). Since we are not performing calculations on any edge pixels, the shape of this array is slightly smaller than that of the input raster and also dependent on the shape of the kernel. This array will be inserted into and replace the non-edge placeholder values in the output array (which we just created)."
   ]
  },
  {
   "cell_type": "code",
   "execution_count": 7,
   "id": "1e7deb38",
   "metadata": {},
   "outputs": [
    {
     "name": "stdout",
     "output_type": "stream",
     "text": [
      "[[0. 0. 0. 0.]\n",
      " [0. 0. 0. 0.]\n",
      " [0. 0. 0. 0.]\n",
      " [0. 0. 0. 0.]]\n"
     ]
    }
   ],
   "source": [
    "# Create raster array used to store window operation calculations for each pixel (excluding boundary pixels)\n",
    "aggregate = np.full((raster.shape[0] - kernel_shape[0] + 1, raster.shape[1] - kernel_shape[1] + 1), 0)\n",
    "\n",
    "# Set array data type\n",
    "aggregate = aggregate.astype(np.float64)\n",
    "\n",
    "# Display raster array\n",
    "print(aggregate)"
   ]
  },
  {
   "cell_type": "markdown",
   "id": "227af0a0",
   "metadata": {},
   "source": [
    "### Create vectorized sliding window\n",
    "\n",
    "The next step is to generate the vectorized sliding windows. The shape of the vectorized sliding windows depends on the kernel shape, so we utilize indices and slicing to obtain the extent of a vectorized sliding window for each position in the kernel."
   ]
  },
  {
   "cell_type": "code",
   "execution_count": 8,
   "id": "2aee57f1",
   "metadata": {},
   "outputs": [
    {
     "name": "stdout",
     "output_type": "stream",
     "text": [
      "[((None, -2), (None, -2)), ((None, -2), (1, -1)), ((None, -2), (2, None)), ((1, -1), (None, -2)), ((1, -1), (1, -1)), ((1, -1), (2, None)), ((2, None), (None, -2)), ((2, None), (1, -1)), ((2, None), (2, None))]\n"
     ]
    }
   ],
   "source": [
    "# Generate row index pairs for slicing\n",
    "pairs_x = list(zip([None] + list(np.arange(1, kernel_shape[0])), list(np.arange(-kernel_shape[0] + 1, 0)) + [None]))\n",
    "\n",
    "# Generate column index pairs for slicing\n",
    "pairs_y = list(zip([None] + list(np.arange(1, kernel_shape[1])), list(np.arange(-kernel_shape[1] + 1, 0)) + [None]))\n",
    "\n",
    "# Combine row and column index pairs together to get the extent for each vectorized sliding window\n",
    "combos = list(product(pairs_x, pairs_y))\n",
    "\n",
    "# Display combined pairs\n",
    "print(combos)"
   ]
  },
  {
   "cell_type": "markdown",
   "id": "22230e31",
   "metadata": {},
   "source": [
    "### Apply vectorized sliding window\n",
    "\n",
    "Once the vectorized sliding windows are specified, we can apply them to the raster. The vectorized sliding window will get a subset of the raster array, and we can multiply all the pixel values in that subset by the corresponding value in the kernel, which is based on window's specific kernel position.\n",
    "\n",
    "The product is then added to the array that keeps track of the running total."
   ]
  },
  {
   "cell_type": "code",
   "execution_count": 9,
   "id": "12708ea8",
   "metadata": {},
   "outputs": [
    {
     "name": "stdout",
     "output_type": "stream",
     "text": [
      "[[6518.4  3505.92 2670.72 4012.8 ]\n",
      " [5176.32 2163.84 1328.64 2670.72]\n",
      " [6011.52 2999.04 2163.84 3505.92]\n",
      " [9024.   6011.52 5176.32 6518.4 ]]\n"
     ]
    }
   ],
   "source": [
    "# Create empty list to store each window operation calculation\n",
    "sub_array_list = []\n",
    "\n",
    "# Iterate through the combined pairs (which give extent of a sliding window)\n",
    "for p in range(len(combos)):\n",
    "\n",
    "    # Get the sub-array via slicing and multiply all the values by corresponding value in kernel (based on location)\n",
    "    sub_array = raster[combos[p][0][0]:combos[p][0][1], combos[p][1][0]:combos[p][1][1]] * kernel_array[p]\n",
    "\n",
    "    # Add sub-array values to array storing window operation calculations\n",
    "    aggregate += sub_array\n",
    "\n",
    "    # Add sub-array to list\n",
    "    sub_array_list.append(sub_array)\n",
    "\n",
    "# View array storing window operation calculations\n",
    "print(aggregate)"
   ]
  },
  {
   "cell_type": "markdown",
   "id": "6b5a07a8",
   "metadata": {},
   "source": [
    "Once we get the aggregate of all windows, we can perform additional computations. In this case, we multiply all values by `2`."
   ]
  },
  {
   "cell_type": "code",
   "execution_count": 10,
   "id": "e01322fc",
   "metadata": {},
   "outputs": [
    {
     "name": "stdout",
     "output_type": "stream",
     "text": [
      "[[13036.8   7011.84  5341.44  8025.6 ]\n",
      " [10352.64  4327.68  2657.28  5341.44]\n",
      " [12023.04  5998.08  4327.68  7011.84]\n",
      " [18048.   12023.04 10352.64 13036.8 ]]\n"
     ]
    }
   ],
   "source": [
    "# Get average value\n",
    "aggregate = aggregate * 2\n",
    "\n",
    "# View array storing window operation calculations\n",
    "print(aggregate)"
   ]
  },
  {
   "cell_type": "markdown",
   "id": "00d24f45",
   "metadata": {},
   "source": [
    "### Window operations with predefined functions\n",
    "\n",
    "We can also perform window operations with predefined functions, such as getting the maximum value of a pixel and its surrounding pixels. We simply take the calculations from each vectorized sliding window and get the maximum value from those calculations.\n",
    "\n",
    "```{tip}\n",
    "To get the maximum or minimum value of a pixel and its surrounding neighbors, the kernel should be filled with values of `1` so that the pixel values don't change.\n",
    "```"
   ]
  },
  {
   "cell_type": "code",
   "execution_count": 11,
   "id": "6c757c20",
   "metadata": {},
   "outputs": [
    {
     "name": "stdout",
     "output_type": "stream",
     "text": [
      "[[1530.66666667  954.02666667  675.62666667 1066.66666667]\n",
      " [1139.62666667  562.98666667  284.58666667  675.62666667]\n",
      " [1418.02666667  841.38666667  562.98666667  954.02666667]\n",
      " [1994.66666667 1418.02666667 1139.62666667 1530.66666667]]\n"
     ]
    }
   ],
   "source": [
    "# Get maximum value\n",
    "window_maximum = np.maximum.reduce(sub_array_list)\n",
    "print(window_maximum)"
   ]
  },
  {
   "cell_type": "markdown",
   "id": "38ab360d",
   "metadata": {},
   "source": [
    "### Save output\n",
    "\n",
    "We can insert the processed aggregate array into the output array, with each value replacing the placeholder value at its corresponding original position in the array. Recall that because edge pixels are ignored, the edge pixels of the output array will still keep their placeholder values.\n",
    "\n",
    "In this example, each non-edge output pixel value is the average pixel value--with pixel values drawn from the input raster--of the 8 pixels surrounding that pixel and the pixel itself."
   ]
  },
  {
   "cell_type": "code",
   "execution_count": 12,
   "id": "cdd445cc",
   "metadata": {},
   "outputs": [
    {
     "name": "stdout",
     "output_type": "stream",
     "text": [
      "[[-9999.   -9999.   -9999.   -9999.   -9999.   -9999.  ]\n",
      " [-9999.   13036.8   7011.84  5341.44  8025.6  -9999.  ]\n",
      " [-9999.   10352.64  4327.68  2657.28  5341.44 -9999.  ]\n",
      " [-9999.   12023.04  5998.08  4327.68  7011.84 -9999.  ]\n",
      " [-9999.   18048.   12023.04 10352.64 13036.8  -9999.  ]\n",
      " [-9999.   -9999.   -9999.   -9999.   -9999.   -9999.  ]]\n"
     ]
    }
   ],
   "source": [
    "# Use kernel shape to determine the row and column index extent of the calculated array\n",
    "n = int((kernel_shape[0] - 1) / 2)\n",
    "m = int((kernel_shape[1] - 1) / 2)\n",
    "\n",
    "# Replace placeholder values in the output array with the corresponding values (based on location) from the calculated array\n",
    "output_rio[n:-n, m:-m] = aggregate\n",
    "\n",
    "# Display output array\n",
    "print(output_rio)"
   ]
  },
  {
   "cell_type": "markdown",
   "id": "7f2b33fd",
   "metadata": {},
   "source": [
    "Finally, we can export the raster (click the + below to show code cell)."
   ]
  },
  {
   "cell_type": "code",
   "execution_count": 13,
   "id": "0e620cbc",
   "metadata": {
    "tags": [
     "hide-cell"
    ]
   },
   "outputs": [],
   "source": [
    "# Export raster\n",
    "with rasterio.open(\n",
    "        \"../pygis/temp/raster_window_3x3_average.tif\", \"w\",\n",
    "        driver=\"GTiff\",\n",
    "        transform = src.transform,\n",
    "        dtype=rasterio.float64,\n",
    "        count=1,\n",
    "        width=src.width,\n",
    "        height=src.height) as dst:\n",
    "    dst.write(output_rio, indexes=1)"
   ]
  },
  {
   "cell_type": "markdown",
   "id": "546b06e2",
   "metadata": {},
   "source": [
    "## Window operations with GeoWombat\n",
    "\n",
    "We can use `GeoWombat` for window operations if we're only interested in calculating a statistic. The code to do this with `GeoWombat` is less complex and much shorter than with `rasterio`--we can simply use the `geowombat.moving()` function.\n",
    "\n",
    "The `geowombat.moving()` function provides us with a few parameters that we can specify:\n",
    "\n",
    "| Parameter | Description |\n",
    "| :------------ | ----------------------------------: |\n",
    "| `stat` | statistic calculated (options: mean, standard deviation, variance, minimum, maximum, percentile) |\n",
    "| `perc` | percentile used for window operation if `stat = perc`\n",
    "| `w` | moving window size in pixels\n",
    "| `nodata` | value that will be ignored in calculations |\n",
    "\n",
    "For more information this function, see the [function documentation](https://geowombat.readthedocs.io/en/latest/moving.html)."
   ]
  },
  {
   "cell_type": "code",
   "execution_count": 14,
   "id": "6fb07dc8",
   "metadata": {},
   "outputs": [
    {
     "name": "stdout",
     "output_type": "stream",
     "text": [
      "<xarray.DataArray 'stack-f58437b882b445e42ee2bf369444f109' (band: 1, y: 6, x: 6)> Size: 288B\n",
      "dask.array<stack, shape=(1, 6, 6), dtype=float64, chunksize=(1, 6, 6), chunktype=numpy.ndarray>\n",
      "Coordinates:\n",
      "  * band     (band) int32 4B 1\n",
      "  * y        (y) float64 48B 90.0 60.0 30.0 0.0 -30.0 -60.0\n",
      "  * x        (x) float64 48B -90.0 -60.0 -30.0 0.0 30.0 60.0\n",
      "Attributes: (12/15)\n",
      "    transform:           (30.0, 0.0, -105.0, 0.0, -30.0, 105.0)\n",
      "    crs:                 4326\n",
      "    res:                 (30.0, 30.0)\n",
      "    is_tiled:            0\n",
      "    nodatavals:          (nan,)\n",
      "    _FillValue:          nan\n",
      "    ...                  ...\n",
      "    resampling:          nearest\n",
      "    AREA_OR_POINT:       Area\n",
      "    _data_are_separate:  0\n",
      "    _data_are_stacked:   0\n",
      "    moving_stat:         mean\n",
      "    moving_window_size:  5\n"
     ]
    },
    {
     "data": {
      "image/png": "[encoded data removed]",
      "text/plain": [
       "<Figure size 1280x960 with 2 Axes>"
      ]
     },
     "metadata": {},
     "output_type": "display_data"
    }
   ],
   "source": [
    "# Open file\n",
    "with gw.open(\"../pygis/temp/window_raster.tif\") as src:\n",
    "\n",
    "    # Create plot\n",
    "    fig, ax = plt.subplots(dpi = 200)\n",
    "\n",
    "    # Calculate local average\n",
    "    output_gw = src.gw.moving(stat = 'mean', w = 5,  nodata = 0)\n",
    "    print(output_gw)\n",
    "\n",
    "    # Plot raster\n",
    "    output_gw.sel(band=1).gw.imshow(robust = True, ax = ax)\n",
    "    plt.tight_layout(pad = 1)"
   ]
  }
 ],
 "metadata": {
  "jupytext": {
   "text_representation": {
    "extension": ".md",
    "format_name": "myst"
   }
  },
  "kernelspec": {
   "display_name": "Python 3 (ipykernel)",
   "language": "python",
   "name": "python3"
  },
  "language_info": {
   "codemirror_mode": {
    "name": "ipython",
    "version": 3
   },
   "file_extension": ".py",
   "mimetype": "text/x-python",
   "name": "python",
   "nbconvert_exporter": "python",
   "pygments_lexer": "ipython3",
   "version": "3.10.18"
  },
  "myst": {
   "html_meta": {
    "description lang=en": "Learn how to conduct moving window operations over rasters.",
    "keywords": "spatial, python, rasterio, geowombat, raster, moving window, window operations, filter",
    "property=og:locale": "en_US"
   }
  },
  "source_map": [
   15,
   77,
   87,
   103,
   149,
   162,
   171,
   179,
   188,
   192,
   201,
   207,
   219,
   227,
   245,
   249,
   255,
   265,
   269,
   277,
   287,
   291,
   304,
   321
  ]
 },
 "nbformat": 4,
 "nbformat_minor": 5
}
