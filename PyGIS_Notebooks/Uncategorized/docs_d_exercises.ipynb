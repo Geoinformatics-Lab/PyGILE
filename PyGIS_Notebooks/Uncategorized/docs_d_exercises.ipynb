{
 "cells": [
  {
   "cell_type": "markdown",
   "id": "bibliographic-qualification",
   "metadata": {},
   "source": [
    "(d_exercises)=\n",
    "\n",
    "# CRS Exercises\n",
    " \n",
    "This section will help reinforce what you have learned so far about coordinate reference systems. \n",
    "\n",
    "\n",
    "```{toctree}\n",
    ":hidden:\n",
    ":titlesonly:\n",
    "\n",
    "\n",
    "d_understand_crs_codes\n",
    "```"
   ]
  }
 ],
 "metadata": {
  "jupytext": {
   "text_representation": {
    "extension": ".md",
    "format_name": "myst"
   }
  },
  "kernelspec": {
   "display_name": "Python 3",
   "language": "python",
   "name": "python3"
  },
  "language_info": {
   "codemirror_mode": {
    "name": "ipython",
    "version": 3
   },
   "file_extension": ".py",
   "mimetype": "text/x-python",
   "name": "python",
   "nbconvert_exporter": "python",
   "pygments_lexer": "ipython3",
   "version": "3.7.10"
  },
  "source_map": [
   10
  ]
 },
 "nbformat": 4,
 "nbformat_minor": 5
}